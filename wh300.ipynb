{
 "cells": [
  {
   "cell_type": "markdown",
   "metadata": {},
   "source": [
    "\n",
    "# 「人工智慧」輔助 RD 領用物料催還\n",
    "\n",
    "WKS (WCD, WCQ 近似) RD 「長期保留」的物料的管法與 「ongoing projects」 的不同 (V360 定案)，「長期保留」的要用一整套 rule 用人工檢視篩選、以便催還，而且還不能為已經解釋過的事項重複打擾工程師，所以很辛苦，很不容易。\n",
    "\n",
    "2017 秋引進 AI (Decision Tree) 來做篩選之後，半年來與人工篩選相比，accuracy 約 80% 上下。請 RD 庫房同仁 review 差異點也總是 AI 的被 reject, 沒有成功糾正過人工，效果不明顯。2018 春改用 DNN Classifier 之後，回溯舊資料來評估， accuracy 超過 90%。 2018 三月份的人工篩選好不容易也出錯了，立刻被 AI 發現！顯示 AI 的價值：節省人力，提升品質；原本人工篩選有錯是無人知曉的。"
   ]
  },
  {
   "cell_type": "markdown",
   "metadata": {},
   "source": [
    "# WH300 Project \n",
    "### 應用 DNN Neural Network 自動勾選 over 300 天的領用催還\n",
    "\n",
    "本程式調用其他附屬程式完成由「訓練」、「測試」、到「預測」各階段的工作，一方面示範這些附屬程式的用法。\n",
    "\n",
    "本 project 由下列附屬程式組成：\n",
    "- excel_to_data_label.ipynb ─ 把 excel 轉成 DNN 認得的 data frame\n",
    "- feature_columns_for_DNN.ipynb ─ 針對庫房帳表各欄，轉述成 DNN 認得的資料類型\n",
    "- DNNClassifier_Training.ipynb ─ 訓練 DNN 神經網路\n",
    "- DNNClassifier_Evaluating.ipynb ─ 測試，跟人工的相比，看 DNN 預測的有多準。\n",
    "- DNNClassifier_Predicting.ipynb ─ 預測，由 DNN 來勾選可疑的項目，以便催還。\n"
   ]
  },
  {
   "cell_type": "markdown",
   "metadata": {},
   "source": [
    "### Get training data and label"
   ]
  },
  {
   "cell_type": "code",
   "execution_count": 1,
   "metadata": {},
   "outputs": [
    {
     "name": "stdout",
     "output_type": "stream",
     "text": [
      "Stored 'excel_file_of_a_month' (str)\n"
     ]
    }
   ],
   "source": [
    "excel_file_of_a_month = r\"c:\\Users\\hcche\\WiBox\\wh300\\10月份W10W庫庫存報表.xlsx\"\n",
    "%store excel_file_of_a_month"
   ]
  },
  {
   "cell_type": "code",
   "execution_count": 2,
   "metadata": {},
   "outputs": [
    {
     "data": {
      "application/javascript": [
       "alert(\"excel_to_data_label.ipynb: 與 'columns' list 比較，庫房的每月報表之「總表」裡偶有多出來的欄位，手動先剔除之。\")\n",
       "// 「總表」一般 worksheet.name 為 'Detail', 其中的欄位要照下表中 Title 的順序，而且不多、不少。\n",
       "// 其中 AI 有用到的是下表中 flag 為 1 者，其他的可以刪除。我是希望照庫房日常工作報表的樣子無須加工直接沿用，因此這樣配合。\n",
       "// 這還不止，總表的 Title 只有一 row 而且是第一 row, 以上的都要刪除，總表的右邊、下邊之外多的都要刪乾淨。"
      ],
      "text/plain": [
       "<IPython.core.display.Javascript object>"
      ]
     },
     "metadata": {},
     "output_type": "display_data"
    },
    {
     "name": "stdout",
     "output_type": "stream",
     "text": [
      "Automatic pdb calling has been turned OFF\n"
     ]
    },
    {
     "data": {
      "application/javascript": [
       "alert(\"excel_to_data_label.ipynb: df 全部，df1 僅 over 300d 看要用哪個，直接改程式，就在本行下面。\")"
      ],
      "text/plain": [
       "<IPython.core.display.Javascript object>"
      ]
     },
     "metadata": {},
     "output_type": "display_data"
    },
    {
     "name": "stdout",
     "output_type": "stream",
     "text": [
      "(745, 7)\n",
      "(745,)\n",
      "Stored 'data_label' (tuple)\n"
     ]
    }
   ],
   "source": [
    "%run excel_to_data_label.ipynb"
   ]
  },
  {
   "cell_type": "markdown",
   "metadata": {},
   "source": [
    "### Training the DNN Classifier "
   ]
  },
  {
   "cell_type": "code",
   "execution_count": 3,
   "metadata": {},
   "outputs": [
    {
     "name": "stdout",
     "output_type": "stream",
     "text": [
      "(745, 7)\n",
      "(745,)\n"
     ]
    },
    {
     "data": {
      "application/javascript": [
       "alert(\"feature_columns_for_DNN.ipynb: Customer.txt (客戶) 跟 BorrowerDEPT.txt (部門代碼) 列表可能有變化，使用前要考慮更新。\")\n",
       "// 從某月份的 excel 帳表的 Customer 欄排序、去掉重複的，得到 Customer.txt。檢查其中若有發現大小寫不一的，則修正有牽涉的帳表。我不知道\n",
       "// 大小寫有沒有關係，寧可都保持一致。\n",
       "// 從某月份的 excel 帳表的 BorrowerDEPT 欄排序、去掉重複的，得到 BorrowerDEPT.txt。檢查其中若有發現大小寫不一的，則修正有牽涉的帳表。\n",
       "// 我不知道大小寫有沒有關係，寧可都保持一致。"
      ],
      "text/plain": [
       "<IPython.core.display.Javascript object>"
      ]
     },
     "metadata": {},
     "output_type": "display_data"
    },
    {
     "name": "stdout",
     "output_type": "stream",
     "text": [
      "Stored 'feature_columns' (list)\n"
     ]
    },
    {
     "data": {
      "application/javascript": [
       "alert(\"DNNClassifier_Training.ipynb: 清掉整個 model 的動作，若有需要手動做。\")\n",
       "// 若想清除現有的神經網路，從頭重新訓練（而非疊加上去），將 project 根目錄下的 model 子目錄整個刪掉，重新訓練。"
      ],
      "text/plain": [
       "<IPython.core.display.Javascript object>"
      ]
     },
     "metadata": {},
     "output_type": "display_data"
    },
    {
     "name": "stdout",
     "output_type": "stream",
     "text": [
      "INFO:tensorflow:Using default config.\n",
      "INFO:tensorflow:Using config: {'_model_dir': 'model/dnn', '_tf_random_seed': None, '_save_summary_steps': 100, '_save_checkpoints_steps': None, '_save_checkpoints_secs': 600, '_session_config': None, '_keep_checkpoint_max': 5, '_keep_checkpoint_every_n_hours': 10000, '_log_step_count_steps': 100, '_service': None, '_cluster_spec': <tensorflow.python.training.server_lib.ClusterSpec object at 0x000002882623ACC0>, '_task_type': 'worker', '_task_id': 0, '_master': '', '_is_chief': True, '_num_ps_replicas': 0, '_num_worker_replicas': 1}\n",
      "INFO:tensorflow:Create CheckpointSaverHook.\n",
      "INFO:tensorflow:Restoring parameters from model/dnn\\model.ckpt-10000\n",
      "INFO:tensorflow:Saving checkpoints for 10001 into model/dnn\\model.ckpt.\n",
      "INFO:tensorflow:loss = 0.0050674453, step = 10001\n",
      "INFO:tensorflow:global_step/sec: 230.598\n",
      "INFO:tensorflow:loss = 0.0054655, step = 10101 (0.439 sec)\n",
      "INFO:tensorflow:global_step/sec: 320.688\n",
      "INFO:tensorflow:loss = 0.007737062, step = 10201 (0.311 sec)\n",
      "INFO:tensorflow:global_step/sec: 317.624\n",
      "INFO:tensorflow:loss = 0.0054684426, step = 10301 (0.315 sec)\n",
      "INFO:tensorflow:global_step/sec: 283.738\n",
      "INFO:tensorflow:loss = 0.0032058642, step = 10401 (0.350 sec)\n",
      "INFO:tensorflow:global_step/sec: 322.764\n",
      "INFO:tensorflow:loss = 0.0060846126, step = 10501 (0.311 sec)\n",
      "INFO:tensorflow:global_step/sec: 353.039\n",
      "INFO:tensorflow:loss = 0.003870789, step = 10601 (0.284 sec)\n",
      "INFO:tensorflow:global_step/sec: 346.902\n",
      "INFO:tensorflow:loss = 0.0032403031, step = 10701 (0.288 sec)\n",
      "INFO:tensorflow:global_step/sec: 310.683\n",
      "INFO:tensorflow:loss = 0.0031686514, step = 10801 (0.320 sec)\n",
      "INFO:tensorflow:global_step/sec: 277.039\n",
      "INFO:tensorflow:loss = 0.0052451985, step = 10901 (0.360 sec)\n",
      "INFO:tensorflow:global_step/sec: 346.887\n",
      "INFO:tensorflow:loss = 0.00645312, step = 11001 (0.293 sec)\n",
      "INFO:tensorflow:global_step/sec: 308.284\n",
      "INFO:tensorflow:loss = 0.0021382412, step = 11101 (0.321 sec)\n",
      "INFO:tensorflow:global_step/sec: 287.004\n",
      "INFO:tensorflow:loss = 0.0027787792, step = 11201 (0.348 sec)\n",
      "INFO:tensorflow:global_step/sec: 259.704\n",
      "INFO:tensorflow:loss = 0.003790021, step = 11301 (0.388 sec)\n",
      "INFO:tensorflow:global_step/sec: 282.909\n",
      "INFO:tensorflow:loss = 0.0034892096, step = 11401 (0.350 sec)\n",
      "INFO:tensorflow:global_step/sec: 294.16\n",
      "INFO:tensorflow:loss = 0.003482853, step = 11501 (0.341 sec)\n",
      "INFO:tensorflow:global_step/sec: 256.377\n",
      "INFO:tensorflow:loss = 0.0021753758, step = 11601 (0.388 sec)\n",
      "INFO:tensorflow:global_step/sec: 293.757\n",
      "INFO:tensorflow:loss = 0.0012901832, step = 11701 (0.342 sec)\n",
      "INFO:tensorflow:global_step/sec: 319.631\n",
      "INFO:tensorflow:loss = 0.0037284207, step = 11801 (0.312 sec)\n",
      "INFO:tensorflow:global_step/sec: 307.821\n",
      "INFO:tensorflow:loss = 0.0029019725, step = 11901 (0.327 sec)\n",
      "INFO:tensorflow:Saving checkpoints for 12000 into model/dnn\\model.ckpt.\n",
      "INFO:tensorflow:Loss for final step: 0.0035505306.\n"
     ]
    }
   ],
   "source": [
    "%run DNNClassifier_Training.ipynb"
   ]
  },
  {
   "cell_type": "markdown",
   "metadata": {},
   "source": [
    "## Evaluate with test data "
   ]
  },
  {
   "cell_type": "code",
   "execution_count": 4,
   "metadata": {},
   "outputs": [
    {
     "name": "stdout",
     "output_type": "stream",
     "text": [
      "Stored 'excel_file_of_a_month' (str)\n"
     ]
    }
   ],
   "source": [
    "excel_file_of_a_month = r\"c:\\Users\\hcche\\WiBox\\wh300\\8月份W10W庫庫存報表.xlsx\"\n",
    "%store excel_file_of_a_month"
   ]
  },
  {
   "cell_type": "code",
   "execution_count": 5,
   "metadata": {},
   "outputs": [
    {
     "data": {
      "application/javascript": [
       "alert(\"excel_to_data_label.ipynb: 與 'columns' list 比較，庫房的每月報表之「總表」裡偶有多出來的欄位，手動先剔除之。\")\n",
       "// 「總表」一般 worksheet.name 為 'Detail', 其中的欄位要照下表中 Title 的順序，而且不多、不少。\n",
       "// 其中 AI 有用到的是下表中 flag 為 1 者，其他的可以刪除。我是希望照庫房日常工作報表的樣子無須加工直接沿用，因此這樣配合。\n",
       "// 這還不止，總表的 Title 只有一 row 而且是第一 row, 以上的都要刪除，總表的右邊、下邊之外多的都要刪乾淨。"
      ],
      "text/plain": [
       "<IPython.core.display.Javascript object>"
      ]
     },
     "metadata": {},
     "output_type": "display_data"
    },
    {
     "name": "stdout",
     "output_type": "stream",
     "text": [
      "Automatic pdb calling has been turned OFF\n"
     ]
    },
    {
     "data": {
      "application/javascript": [
       "alert(\"excel_to_data_label.ipynb: df 全部，df1 僅 over 300d 看要用哪個，直接改程式，就在本行下面。\")"
      ],
      "text/plain": [
       "<IPython.core.display.Javascript object>"
      ]
     },
     "metadata": {},
     "output_type": "display_data"
    },
    {
     "name": "stdout",
     "output_type": "stream",
     "text": [
      "(702, 7)\n",
      "(702,)\n",
      "Stored 'data_label' (tuple)\n",
      "核對一下 shapes \n",
      "(702, 7)\n",
      "(702,)\n"
     ]
    },
    {
     "data": {
      "application/javascript": [
       "alert(\"feature_columns_for_DNN.ipynb: Customer.txt (客戶) 跟 BorrowerDEPT.txt (部門代碼) 列表可能有變化，使用前要考慮更新。\")\n",
       "// 從某月份的 excel 帳表的 Customer 欄排序、去掉重複的，得到 Customer.txt。檢查其中若有發現大小寫不一的，則修正有牽涉的帳表。我不知道\n",
       "// 大小寫有沒有關係，寧可都保持一致。\n",
       "// 從某月份的 excel 帳表的 BorrowerDEPT 欄排序、去掉重複的，得到 BorrowerDEPT.txt。檢查其中若有發現大小寫不一的，則修正有牽涉的帳表。\n",
       "// 我不知道大小寫有沒有關係，寧可都保持一致。"
      ],
      "text/plain": [
       "<IPython.core.display.Javascript object>"
      ]
     },
     "metadata": {},
     "output_type": "display_data"
    },
    {
     "name": "stdout",
     "output_type": "stream",
     "text": [
      "Stored 'feature_columns' (list)\n",
      "INFO:tensorflow:Using default config.\n",
      "INFO:tensorflow:Using config: {'_model_dir': 'model/dnn', '_tf_random_seed': None, '_save_summary_steps': 100, '_save_checkpoints_steps': None, '_save_checkpoints_secs': 600, '_session_config': None, '_keep_checkpoint_max': 5, '_keep_checkpoint_every_n_hours': 10000, '_log_step_count_steps': 100, '_service': None, '_cluster_spec': <tensorflow.python.training.server_lib.ClusterSpec object at 0x0000028827986940>, '_task_type': 'worker', '_task_id': 0, '_master': '', '_is_chief': True, '_num_ps_replicas': 0, '_num_worker_replicas': 1}\n",
      "WARNING:tensorflow:Casting <dtype: 'float32'> labels to bool.\n",
      "WARNING:tensorflow:Casting <dtype: 'float32'> labels to bool.\n",
      "INFO:tensorflow:Starting evaluation at 2018-04-01-04:10:59\n",
      "INFO:tensorflow:Restoring parameters from model/dnn\\model.ckpt-12000\n",
      "INFO:tensorflow:Finished evaluation at 2018-04-01-04:11:00\n",
      "INFO:tensorflow:Saving dict for global step 12000: accuracy = 0.980057, accuracy_baseline = 0.7891738, auc = 0.9617158, auc_precision_recall = 0.9661165, average_loss = 0.1568017, global_step = 12000, label/mean = 0.21082622, loss = 18.3458, prediction/mean = 0.19406512\n"
     ]
    }
   ],
   "source": [
    "%run excel_to_data_label.ipynb\n",
    "%run DNNClassifier_Evaluating.ipynb"
   ]
  },
  {
   "cell_type": "code",
   "execution_count": 6,
   "metadata": {},
   "outputs": [
    {
     "name": "stdout",
     "output_type": "stream",
     "text": [
      "Stored 'excel_file_of_a_month' (str)\n"
     ]
    }
   ],
   "source": [
    "excel_file_of_a_month = r\"c:\\Users\\hcche\\WiBox\\wh300\\9月份W10W庫庫存報表.xlsx\"\n",
    "%store excel_file_of_a_month"
   ]
  },
  {
   "cell_type": "code",
   "execution_count": 7,
   "metadata": {},
   "outputs": [
    {
     "data": {
      "application/javascript": [
       "alert(\"excel_to_data_label.ipynb: 與 'columns' list 比較，庫房的每月報表之「總表」裡偶有多出來的欄位，手動先剔除之。\")\n",
       "// 「總表」一般 worksheet.name 為 'Detail', 其中的欄位要照下表中 Title 的順序，而且不多、不少。\n",
       "// 其中 AI 有用到的是下表中 flag 為 1 者，其他的可以刪除。我是希望照庫房日常工作報表的樣子無須加工直接沿用，因此這樣配合。\n",
       "// 這還不止，總表的 Title 只有一 row 而且是第一 row, 以上的都要刪除，總表的右邊、下邊之外多的都要刪乾淨。"
      ],
      "text/plain": [
       "<IPython.core.display.Javascript object>"
      ]
     },
     "metadata": {},
     "output_type": "display_data"
    },
    {
     "name": "stdout",
     "output_type": "stream",
     "text": [
      "Automatic pdb calling has been turned OFF\n"
     ]
    },
    {
     "data": {
      "application/javascript": [
       "alert(\"excel_to_data_label.ipynb: df 全部，df1 僅 over 300d 看要用哪個，直接改程式，就在本行下面。\")"
      ],
      "text/plain": [
       "<IPython.core.display.Javascript object>"
      ]
     },
     "metadata": {},
     "output_type": "display_data"
    },
    {
     "name": "stdout",
     "output_type": "stream",
     "text": [
      "(702, 7)\n",
      "(702,)\n",
      "Stored 'data_label' (tuple)\n",
      "核對一下 shapes \n",
      "(702, 7)\n",
      "(702,)\n"
     ]
    },
    {
     "data": {
      "application/javascript": [
       "alert(\"feature_columns_for_DNN.ipynb: Customer.txt (客戶) 跟 BorrowerDEPT.txt (部門代碼) 列表可能有變化，使用前要考慮更新。\")\n",
       "// 從某月份的 excel 帳表的 Customer 欄排序、去掉重複的，得到 Customer.txt。檢查其中若有發現大小寫不一的，則修正有牽涉的帳表。我不知道\n",
       "// 大小寫有沒有關係，寧可都保持一致。\n",
       "// 從某月份的 excel 帳表的 BorrowerDEPT 欄排序、去掉重複的，得到 BorrowerDEPT.txt。檢查其中若有發現大小寫不一的，則修正有牽涉的帳表。\n",
       "// 我不知道大小寫有沒有關係，寧可都保持一致。"
      ],
      "text/plain": [
       "<IPython.core.display.Javascript object>"
      ]
     },
     "metadata": {},
     "output_type": "display_data"
    },
    {
     "name": "stdout",
     "output_type": "stream",
     "text": [
      "Stored 'feature_columns' (list)\n",
      "INFO:tensorflow:Using default config.\n",
      "INFO:tensorflow:Using config: {'_model_dir': 'model/dnn', '_tf_random_seed': None, '_save_summary_steps': 100, '_save_checkpoints_steps': None, '_save_checkpoints_secs': 600, '_session_config': None, '_keep_checkpoint_max': 5, '_keep_checkpoint_every_n_hours': 10000, '_log_step_count_steps': 100, '_service': None, '_cluster_spec': <tensorflow.python.training.server_lib.ClusterSpec object at 0x00000288266F74A8>, '_task_type': 'worker', '_task_id': 0, '_master': '', '_is_chief': True, '_num_ps_replicas': 0, '_num_worker_replicas': 1}\n",
      "WARNING:tensorflow:Casting <dtype: 'float32'> labels to bool.\n",
      "WARNING:tensorflow:Casting <dtype: 'float32'> labels to bool.\n",
      "INFO:tensorflow:Starting evaluation at 2018-04-01-04:11:05\n",
      "INFO:tensorflow:Restoring parameters from model/dnn\\model.ckpt-12000\n",
      "INFO:tensorflow:Finished evaluation at 2018-04-01-04:11:06\n",
      "INFO:tensorflow:Saving dict for global step 12000: accuracy = 0.9729345, accuracy_baseline = 0.76638174, auc = 0.9462157, auc_precision_recall = 0.9532267, average_loss = 0.40886372, global_step = 12000, label/mean = 0.23361823, loss = 47.837055, prediction/mean = 0.21226104\n"
     ]
    }
   ],
   "source": [
    "%run excel_to_data_label.ipynb\n",
    "%run DNNClassifier_Evaluating.ipynb"
   ]
  },
  {
   "cell_type": "code",
   "execution_count": 8,
   "metadata": {},
   "outputs": [
    {
     "name": "stdout",
     "output_type": "stream",
     "text": [
      "Stored 'excel_file_of_a_month' (str)\n"
     ]
    }
   ],
   "source": [
    "excel_file_of_a_month = r\"c:\\Users\\hcche\\WiBox\\wh300\\10月份W10W庫庫存報表.xlsx\"\n",
    "%store excel_file_of_a_month"
   ]
  },
  {
   "cell_type": "code",
   "execution_count": 9,
   "metadata": {},
   "outputs": [
    {
     "data": {
      "application/javascript": [
       "alert(\"excel_to_data_label.ipynb: 與 'columns' list 比較，庫房的每月報表之「總表」裡偶有多出來的欄位，手動先剔除之。\")\n",
       "// 「總表」一般 worksheet.name 為 'Detail', 其中的欄位要照下表中 Title 的順序，而且不多、不少。\n",
       "// 其中 AI 有用到的是下表中 flag 為 1 者，其他的可以刪除。我是希望照庫房日常工作報表的樣子無須加工直接沿用，因此這樣配合。\n",
       "// 這還不止，總表的 Title 只有一 row 而且是第一 row, 以上的都要刪除，總表的右邊、下邊之外多的都要刪乾淨。"
      ],
      "text/plain": [
       "<IPython.core.display.Javascript object>"
      ]
     },
     "metadata": {},
     "output_type": "display_data"
    },
    {
     "name": "stdout",
     "output_type": "stream",
     "text": [
      "Automatic pdb calling has been turned OFF\n"
     ]
    },
    {
     "data": {
      "application/javascript": [
       "alert(\"excel_to_data_label.ipynb: df 全部，df1 僅 over 300d 看要用哪個，直接改程式，就在本行下面。\")"
      ],
      "text/plain": [
       "<IPython.core.display.Javascript object>"
      ]
     },
     "metadata": {},
     "output_type": "display_data"
    },
    {
     "name": "stdout",
     "output_type": "stream",
     "text": [
      "(745, 7)\n",
      "(745,)\n",
      "Stored 'data_label' (tuple)\n",
      "核對一下 shapes \n",
      "(745, 7)\n",
      "(745,)\n"
     ]
    },
    {
     "data": {
      "application/javascript": [
       "alert(\"feature_columns_for_DNN.ipynb: Customer.txt (客戶) 跟 BorrowerDEPT.txt (部門代碼) 列表可能有變化，使用前要考慮更新。\")\n",
       "// 從某月份的 excel 帳表的 Customer 欄排序、去掉重複的，得到 Customer.txt。檢查其中若有發現大小寫不一的，則修正有牽涉的帳表。我不知道\n",
       "// 大小寫有沒有關係，寧可都保持一致。\n",
       "// 從某月份的 excel 帳表的 BorrowerDEPT 欄排序、去掉重複的，得到 BorrowerDEPT.txt。檢查其中若有發現大小寫不一的，則修正有牽涉的帳表。\n",
       "// 我不知道大小寫有沒有關係，寧可都保持一致。"
      ],
      "text/plain": [
       "<IPython.core.display.Javascript object>"
      ]
     },
     "metadata": {},
     "output_type": "display_data"
    },
    {
     "name": "stdout",
     "output_type": "stream",
     "text": [
      "Stored 'feature_columns' (list)\n",
      "INFO:tensorflow:Using default config.\n",
      "INFO:tensorflow:Using config: {'_model_dir': 'model/dnn', '_tf_random_seed': None, '_save_summary_steps': 100, '_save_checkpoints_steps': None, '_save_checkpoints_secs': 600, '_session_config': None, '_keep_checkpoint_max': 5, '_keep_checkpoint_every_n_hours': 10000, '_log_step_count_steps': 100, '_service': None, '_cluster_spec': <tensorflow.python.training.server_lib.ClusterSpec object at 0x000002882682FB70>, '_task_type': 'worker', '_task_id': 0, '_master': '', '_is_chief': True, '_num_ps_replicas': 0, '_num_worker_replicas': 1}\n",
      "WARNING:tensorflow:Casting <dtype: 'float32'> labels to bool.\n",
      "WARNING:tensorflow:Casting <dtype: 'float32'> labels to bool.\n",
      "INFO:tensorflow:Starting evaluation at 2018-04-01-04:11:09\n",
      "INFO:tensorflow:Restoring parameters from model/dnn\\model.ckpt-12000\n",
      "INFO:tensorflow:Finished evaluation at 2018-04-01-04:11:10\n",
      "INFO:tensorflow:Saving dict for global step 12000: accuracy = 1.0, accuracy_baseline = 0.77986574, auc = 1.0, auc_precision_recall = 1.0, average_loss = 1.725825e-05, global_step = 12000, label/mean = 0.22013423, loss = 0.0021428994, prediction/mean = 0.22013463\n"
     ]
    }
   ],
   "source": [
    "%run excel_to_data_label.ipynb\n",
    "%run DNNClassifier_Evaluating.ipynb"
   ]
  },
  {
   "cell_type": "code",
   "execution_count": 10,
   "metadata": {},
   "outputs": [
    {
     "name": "stdout",
     "output_type": "stream",
     "text": [
      "Stored 'excel_file_of_a_month' (str)\n"
     ]
    }
   ],
   "source": [
    "excel_file_of_a_month = r\"c:\\Users\\hcche\\WiBox\\wh300\\11月份W10W庫庫存報表.xlsx\"\n",
    "%store excel_file_of_a_month"
   ]
  },
  {
   "cell_type": "code",
   "execution_count": 11,
   "metadata": {},
   "outputs": [
    {
     "data": {
      "application/javascript": [
       "alert(\"excel_to_data_label.ipynb: 與 'columns' list 比較，庫房的每月報表之「總表」裡偶有多出來的欄位，手動先剔除之。\")\n",
       "// 「總表」一般 worksheet.name 為 'Detail', 其中的欄位要照下表中 Title 的順序，而且不多、不少。\n",
       "// 其中 AI 有用到的是下表中 flag 為 1 者，其他的可以刪除。我是希望照庫房日常工作報表的樣子無須加工直接沿用，因此這樣配合。\n",
       "// 這還不止，總表的 Title 只有一 row 而且是第一 row, 以上的都要刪除，總表的右邊、下邊之外多的都要刪乾淨。"
      ],
      "text/plain": [
       "<IPython.core.display.Javascript object>"
      ]
     },
     "metadata": {},
     "output_type": "display_data"
    },
    {
     "name": "stdout",
     "output_type": "stream",
     "text": [
      "Automatic pdb calling has been turned OFF\n"
     ]
    },
    {
     "data": {
      "application/javascript": [
       "alert(\"excel_to_data_label.ipynb: df 全部，df1 僅 over 300d 看要用哪個，直接改程式，就在本行下面。\")"
      ],
      "text/plain": [
       "<IPython.core.display.Javascript object>"
      ]
     },
     "metadata": {},
     "output_type": "display_data"
    },
    {
     "name": "stdout",
     "output_type": "stream",
     "text": [
      "(722, 7)\n",
      "(722,)\n",
      "Stored 'data_label' (tuple)\n",
      "核對一下 shapes \n",
      "(722, 7)\n",
      "(722,)\n"
     ]
    },
    {
     "data": {
      "application/javascript": [
       "alert(\"feature_columns_for_DNN.ipynb: Customer.txt (客戶) 跟 BorrowerDEPT.txt (部門代碼) 列表可能有變化，使用前要考慮更新。\")\n",
       "// 從某月份的 excel 帳表的 Customer 欄排序、去掉重複的，得到 Customer.txt。檢查其中若有發現大小寫不一的，則修正有牽涉的帳表。我不知道\n",
       "// 大小寫有沒有關係，寧可都保持一致。\n",
       "// 從某月份的 excel 帳表的 BorrowerDEPT 欄排序、去掉重複的，得到 BorrowerDEPT.txt。檢查其中若有發現大小寫不一的，則修正有牽涉的帳表。\n",
       "// 我不知道大小寫有沒有關係，寧可都保持一致。"
      ],
      "text/plain": [
       "<IPython.core.display.Javascript object>"
      ]
     },
     "metadata": {},
     "output_type": "display_data"
    },
    {
     "name": "stdout",
     "output_type": "stream",
     "text": [
      "Stored 'feature_columns' (list)\n",
      "INFO:tensorflow:Using default config.\n",
      "INFO:tensorflow:Using config: {'_model_dir': 'model/dnn', '_tf_random_seed': None, '_save_summary_steps': 100, '_save_checkpoints_steps': None, '_save_checkpoints_secs': 600, '_session_config': None, '_keep_checkpoint_max': 5, '_keep_checkpoint_every_n_hours': 10000, '_log_step_count_steps': 100, '_service': None, '_cluster_spec': <tensorflow.python.training.server_lib.ClusterSpec object at 0x0000028827BB25F8>, '_task_type': 'worker', '_task_id': 0, '_master': '', '_is_chief': True, '_num_ps_replicas': 0, '_num_worker_replicas': 1}\n",
      "WARNING:tensorflow:Casting <dtype: 'float32'> labels to bool.\n",
      "WARNING:tensorflow:Casting <dtype: 'float32'> labels to bool.\n",
      "INFO:tensorflow:Starting evaluation at 2018-04-01-04:11:14\n",
      "INFO:tensorflow:Restoring parameters from model/dnn\\model.ckpt-12000\n",
      "INFO:tensorflow:Finished evaluation at 2018-04-01-04:11:15\n",
      "INFO:tensorflow:Saving dict for global step 12000: accuracy = 0.85180056, accuracy_baseline = 0.7728532, auc = 0.7785208, auc_precision_recall = 0.70365477, average_loss = 2.1251817, global_step = 12000, label/mean = 0.22714682, loss = 255.73021, prediction/mean = 0.21508133\n"
     ]
    }
   ],
   "source": [
    "%run excel_to_data_label.ipynb\n",
    "%run DNNClassifier_Evaluating.ipynb"
   ]
  },
  {
   "cell_type": "code",
   "execution_count": 12,
   "metadata": {},
   "outputs": [
    {
     "name": "stdout",
     "output_type": "stream",
     "text": [
      "Stored 'excel_file_of_a_month' (str)\n"
     ]
    }
   ],
   "source": [
    "excel_file_of_a_month = r\"c:\\Users\\hcche\\WiBox\\wh300\\201712.xlsx\"\n",
    "%store excel_file_of_a_month"
   ]
  },
  {
   "cell_type": "code",
   "execution_count": 13,
   "metadata": {},
   "outputs": [
    {
     "data": {
      "application/javascript": [
       "alert(\"excel_to_data_label.ipynb: 與 'columns' list 比較，庫房的每月報表之「總表」裡偶有多出來的欄位，手動先剔除之。\")\n",
       "// 「總表」一般 worksheet.name 為 'Detail', 其中的欄位要照下表中 Title 的順序，而且不多、不少。\n",
       "// 其中 AI 有用到的是下表中 flag 為 1 者，其他的可以刪除。我是希望照庫房日常工作報表的樣子無須加工直接沿用，因此這樣配合。\n",
       "// 這還不止，總表的 Title 只有一 row 而且是第一 row, 以上的都要刪除，總表的右邊、下邊之外多的都要刪乾淨。"
      ],
      "text/plain": [
       "<IPython.core.display.Javascript object>"
      ]
     },
     "metadata": {},
     "output_type": "display_data"
    },
    {
     "name": "stdout",
     "output_type": "stream",
     "text": [
      "Automatic pdb calling has been turned OFF\n"
     ]
    },
    {
     "data": {
      "application/javascript": [
       "alert(\"excel_to_data_label.ipynb: df 全部，df1 僅 over 300d 看要用哪個，直接改程式，就在本行下面。\")"
      ],
      "text/plain": [
       "<IPython.core.display.Javascript object>"
      ]
     },
     "metadata": {},
     "output_type": "display_data"
    },
    {
     "name": "stdout",
     "output_type": "stream",
     "text": [
      "(730, 7)\n",
      "(730,)\n",
      "Stored 'data_label' (tuple)\n",
      "核對一下 shapes \n",
      "(730, 7)\n",
      "(730,)\n"
     ]
    },
    {
     "data": {
      "application/javascript": [
       "alert(\"feature_columns_for_DNN.ipynb: Customer.txt (客戶) 跟 BorrowerDEPT.txt (部門代碼) 列表可能有變化，使用前要考慮更新。\")\n",
       "// 從某月份的 excel 帳表的 Customer 欄排序、去掉重複的，得到 Customer.txt。檢查其中若有發現大小寫不一的，則修正有牽涉的帳表。我不知道\n",
       "// 大小寫有沒有關係，寧可都保持一致。\n",
       "// 從某月份的 excel 帳表的 BorrowerDEPT 欄排序、去掉重複的，得到 BorrowerDEPT.txt。檢查其中若有發現大小寫不一的，則修正有牽涉的帳表。\n",
       "// 我不知道大小寫有沒有關係，寧可都保持一致。"
      ],
      "text/plain": [
       "<IPython.core.display.Javascript object>"
      ]
     },
     "metadata": {},
     "output_type": "display_data"
    },
    {
     "name": "stdout",
     "output_type": "stream",
     "text": [
      "Stored 'feature_columns' (list)\n",
      "INFO:tensorflow:Using default config.\n",
      "INFO:tensorflow:Using config: {'_model_dir': 'model/dnn', '_tf_random_seed': None, '_save_summary_steps': 100, '_save_checkpoints_steps': None, '_save_checkpoints_secs': 600, '_session_config': None, '_keep_checkpoint_max': 5, '_keep_checkpoint_every_n_hours': 10000, '_log_step_count_steps': 100, '_service': None, '_cluster_spec': <tensorflow.python.training.server_lib.ClusterSpec object at 0x000002882B3985F8>, '_task_type': 'worker', '_task_id': 0, '_master': '', '_is_chief': True, '_num_ps_replicas': 0, '_num_worker_replicas': 1}\n",
      "WARNING:tensorflow:Casting <dtype: 'float32'> labels to bool.\n",
      "WARNING:tensorflow:Casting <dtype: 'float32'> labels to bool.\n",
      "INFO:tensorflow:Starting evaluation at 2018-04-01-04:11:18\n",
      "INFO:tensorflow:Restoring parameters from model/dnn\\model.ckpt-12000\n",
      "INFO:tensorflow:Finished evaluation at 2018-04-01-04:11:19\n",
      "INFO:tensorflow:Saving dict for global step 12000: accuracy = 0.9219178, accuracy_baseline = 0.79315066, auc = 0.8998559, auc_precision_recall = 0.8331501, average_loss = 0.90698206, global_step = 12000, label/mean = 0.20684932, loss = 110.34949, prediction/mean = 0.21970187\n"
     ]
    }
   ],
   "source": [
    "%run excel_to_data_label.ipynb\n",
    "%run DNNClassifier_Evaluating.ipynb"
   ]
  },
  {
   "cell_type": "code",
   "execution_count": 14,
   "metadata": {},
   "outputs": [
    {
     "name": "stdout",
     "output_type": "stream",
     "text": [
      "Stored 'excel_file_of_a_month' (str)\n"
     ]
    }
   ],
   "source": [
    "excel_file_of_a_month = r\"c:\\Users\\hcche\\WiBox\\wh300\\201801.xlsx\"\n",
    "%store excel_file_of_a_month"
   ]
  },
  {
   "cell_type": "code",
   "execution_count": 15,
   "metadata": {},
   "outputs": [
    {
     "data": {
      "application/javascript": [
       "alert(\"excel_to_data_label.ipynb: 與 'columns' list 比較，庫房的每月報表之「總表」裡偶有多出來的欄位，手動先剔除之。\")\n",
       "// 「總表」一般 worksheet.name 為 'Detail', 其中的欄位要照下表中 Title 的順序，而且不多、不少。\n",
       "// 其中 AI 有用到的是下表中 flag 為 1 者，其他的可以刪除。我是希望照庫房日常工作報表的樣子無須加工直接沿用，因此這樣配合。\n",
       "// 這還不止，總表的 Title 只有一 row 而且是第一 row, 以上的都要刪除，總表的右邊、下邊之外多的都要刪乾淨。"
      ],
      "text/plain": [
       "<IPython.core.display.Javascript object>"
      ]
     },
     "metadata": {},
     "output_type": "display_data"
    },
    {
     "name": "stdout",
     "output_type": "stream",
     "text": [
      "Automatic pdb calling has been turned OFF\n"
     ]
    },
    {
     "data": {
      "application/javascript": [
       "alert(\"excel_to_data_label.ipynb: df 全部，df1 僅 over 300d 看要用哪個，直接改程式，就在本行下面。\")"
      ],
      "text/plain": [
       "<IPython.core.display.Javascript object>"
      ]
     },
     "metadata": {},
     "output_type": "display_data"
    },
    {
     "name": "stdout",
     "output_type": "stream",
     "text": [
      "(699, 7)\n",
      "(699,)\n",
      "Stored 'data_label' (tuple)\n",
      "核對一下 shapes \n",
      "(699, 7)\n",
      "(699,)\n"
     ]
    },
    {
     "data": {
      "application/javascript": [
       "alert(\"feature_columns_for_DNN.ipynb: Customer.txt (客戶) 跟 BorrowerDEPT.txt (部門代碼) 列表可能有變化，使用前要考慮更新。\")\n",
       "// 從某月份的 excel 帳表的 Customer 欄排序、去掉重複的，得到 Customer.txt。檢查其中若有發現大小寫不一的，則修正有牽涉的帳表。我不知道\n",
       "// 大小寫有沒有關係，寧可都保持一致。\n",
       "// 從某月份的 excel 帳表的 BorrowerDEPT 欄排序、去掉重複的，得到 BorrowerDEPT.txt。檢查其中若有發現大小寫不一的，則修正有牽涉的帳表。\n",
       "// 我不知道大小寫有沒有關係，寧可都保持一致。"
      ],
      "text/plain": [
       "<IPython.core.display.Javascript object>"
      ]
     },
     "metadata": {},
     "output_type": "display_data"
    },
    {
     "name": "stdout",
     "output_type": "stream",
     "text": [
      "Stored 'feature_columns' (list)\n",
      "INFO:tensorflow:Using default config.\n",
      "INFO:tensorflow:Using config: {'_model_dir': 'model/dnn', '_tf_random_seed': None, '_save_summary_steps': 100, '_save_checkpoints_steps': None, '_save_checkpoints_secs': 600, '_session_config': None, '_keep_checkpoint_max': 5, '_keep_checkpoint_every_n_hours': 10000, '_log_step_count_steps': 100, '_service': None, '_cluster_spec': <tensorflow.python.training.server_lib.ClusterSpec object at 0x000002882972EA20>, '_task_type': 'worker', '_task_id': 0, '_master': '', '_is_chief': True, '_num_ps_replicas': 0, '_num_worker_replicas': 1}\n",
      "WARNING:tensorflow:Casting <dtype: 'float32'> labels to bool.\n",
      "WARNING:tensorflow:Casting <dtype: 'float32'> labels to bool.\n",
      "INFO:tensorflow:Starting evaluation at 2018-04-01-04:11:22\n",
      "INFO:tensorflow:Restoring parameters from model/dnn\\model.ckpt-12000\n",
      "INFO:tensorflow:Finished evaluation at 2018-04-01-04:11:23\n",
      "INFO:tensorflow:Saving dict for global step 12000: accuracy = 0.9198856, accuracy_baseline = 0.7882689, auc = 0.9156509, auc_precision_recall = 0.8414182, average_loss = 0.8698617, global_step = 12000, label/mean = 0.21173105, loss = 101.33889, prediction/mean = 0.24741267\n"
     ]
    }
   ],
   "source": [
    "%run excel_to_data_label.ipynb\n",
    "%run DNNClassifier_Evaluating.ipynb"
   ]
  },
  {
   "cell_type": "code",
   "execution_count": 16,
   "metadata": {},
   "outputs": [
    {
     "name": "stdout",
     "output_type": "stream",
     "text": [
      "Stored 'excel_file_of_a_month' (str)\n"
     ]
    }
   ],
   "source": [
    "excel_file_of_a_month = r\"c:\\Users\\hcche\\WiBox\\wh300\\3月份W10W庫庫存報表b.xlsx\"\n",
    "%store excel_file_of_a_month"
   ]
  },
  {
   "cell_type": "code",
   "execution_count": 17,
   "metadata": {},
   "outputs": [
    {
     "data": {
      "application/javascript": [
       "alert(\"excel_to_data_label.ipynb: 與 'columns' list 比較，庫房的每月報表之「總表」裡偶有多出來的欄位，手動先剔除之。\")\n",
       "// 「總表」一般 worksheet.name 為 'Detail', 其中的欄位要照下表中 Title 的順序，而且不多、不少。\n",
       "// 其中 AI 有用到的是下表中 flag 為 1 者，其他的可以刪除。我是希望照庫房日常工作報表的樣子無須加工直接沿用，因此這樣配合。\n",
       "// 這還不止，總表的 Title 只有一 row 而且是第一 row, 以上的都要刪除，總表的右邊、下邊之外多的都要刪乾淨。"
      ],
      "text/plain": [
       "<IPython.core.display.Javascript object>"
      ]
     },
     "metadata": {},
     "output_type": "display_data"
    },
    {
     "name": "stdout",
     "output_type": "stream",
     "text": [
      "Automatic pdb calling has been turned OFF\n"
     ]
    },
    {
     "data": {
      "application/javascript": [
       "alert(\"excel_to_data_label.ipynb: df 全部，df1 僅 over 300d 看要用哪個，直接改程式，就在本行下面。\")"
      ],
      "text/plain": [
       "<IPython.core.display.Javascript object>"
      ]
     },
     "metadata": {},
     "output_type": "display_data"
    },
    {
     "name": "stdout",
     "output_type": "stream",
     "text": [
      "(776, 7)\n",
      "(776,)\n",
      "Stored 'data_label' (tuple)\n",
      "核對一下 shapes \n",
      "(776, 7)\n",
      "(776,)\n"
     ]
    },
    {
     "data": {
      "application/javascript": [
       "alert(\"feature_columns_for_DNN.ipynb: Customer.txt (客戶) 跟 BorrowerDEPT.txt (部門代碼) 列表可能有變化，使用前要考慮更新。\")\n",
       "// 從某月份的 excel 帳表的 Customer 欄排序、去掉重複的，得到 Customer.txt。檢查其中若有發現大小寫不一的，則修正有牽涉的帳表。我不知道\n",
       "// 大小寫有沒有關係，寧可都保持一致。\n",
       "// 從某月份的 excel 帳表的 BorrowerDEPT 欄排序、去掉重複的，得到 BorrowerDEPT.txt。檢查其中若有發現大小寫不一的，則修正有牽涉的帳表。\n",
       "// 我不知道大小寫有沒有關係，寧可都保持一致。"
      ],
      "text/plain": [
       "<IPython.core.display.Javascript object>"
      ]
     },
     "metadata": {},
     "output_type": "display_data"
    },
    {
     "name": "stdout",
     "output_type": "stream",
     "text": [
      "Stored 'feature_columns' (list)\n",
      "INFO:tensorflow:Using default config.\n",
      "INFO:tensorflow:Using config: {'_model_dir': 'model/dnn', '_tf_random_seed': None, '_save_summary_steps': 100, '_save_checkpoints_steps': None, '_save_checkpoints_secs': 600, '_session_config': None, '_keep_checkpoint_max': 5, '_keep_checkpoint_every_n_hours': 10000, '_log_step_count_steps': 100, '_service': None, '_cluster_spec': <tensorflow.python.training.server_lib.ClusterSpec object at 0x0000028826D105C0>, '_task_type': 'worker', '_task_id': 0, '_master': '', '_is_chief': True, '_num_ps_replicas': 0, '_num_worker_replicas': 1}\n",
      "WARNING:tensorflow:Casting <dtype: 'float32'> labels to bool.\n",
      "WARNING:tensorflow:Casting <dtype: 'float32'> labels to bool.\n",
      "INFO:tensorflow:Starting evaluation at 2018-04-01-04:11:27\n",
      "INFO:tensorflow:Restoring parameters from model/dnn\\model.ckpt-12000\n",
      "INFO:tensorflow:Finished evaluation at 2018-04-01-04:11:28\n",
      "INFO:tensorflow:Saving dict for global step 12000: accuracy = 0.8994845, accuracy_baseline = 0.8556701, auc = 0.883989, auc_precision_recall = 0.7280493, average_loss = 1.1176096, global_step = 12000, label/mean = 0.14432989, loss = 123.89501, prediction/mean = 0.202331\n"
     ]
    }
   ],
   "source": [
    "%run excel_to_data_label.ipynb\n",
    "%run DNNClassifier_Evaluating.ipynb"
   ]
  },
  {
   "cell_type": "markdown",
   "metadata": {},
   "source": [
    "## Make a prediction for target data\n",
    "\n",
    "可以直接來做 predicting 讓 AI 為陌生的帳表自動挑出該催還的項目，因為以前已經訓練好的「神經網路」保存在本 project 的 model/dnn 目錄下。"
   ]
  },
  {
   "cell_type": "code",
   "execution_count": 18,
   "metadata": {},
   "outputs": [
    {
     "name": "stdout",
     "output_type": "stream",
     "text": [
      "Stored 'excel_file_of_a_month' (str)\n"
     ]
    },
    {
     "data": {
      "application/javascript": [
       "alert(\"excel_to_data_label.ipynb: 與 'columns' list 比較，庫房的每月報表之「總表」裡偶有多出來的欄位，手動先剔除之。\")\n",
       "// 「總表」一般 worksheet.name 為 'Detail', 其中的欄位要照下表中 Title 的順序，而且不多、不少。\n",
       "// 其中 AI 有用到的是下表中 flag 為 1 者，其他的可以刪除。我是希望照庫房日常工作報表的樣子無須加工直接沿用，因此這樣配合。\n",
       "// 這還不止，總表的 Title 只有一 row 而且是第一 row, 以上的都要刪除，總表的右邊、下邊之外多的都要刪乾淨。"
      ],
      "text/plain": [
       "<IPython.core.display.Javascript object>"
      ]
     },
     "metadata": {},
     "output_type": "display_data"
    },
    {
     "name": "stdout",
     "output_type": "stream",
     "text": [
      "Automatic pdb calling has been turned OFF\n"
     ]
    },
    {
     "data": {
      "application/javascript": [
       "alert(\"excel_to_data_label.ipynb: df 全部，df1 僅 over 300d 看要用哪個，直接改程式，就在本行下面。\")"
      ],
      "text/plain": [
       "<IPython.core.display.Javascript object>"
      ]
     },
     "metadata": {},
     "output_type": "display_data"
    },
    {
     "name": "stdout",
     "output_type": "stream",
     "text": [
      "(730, 7)\n",
      "(730,)\n",
      "Stored 'data_label' (tuple)\n"
     ]
    }
   ],
   "source": [
    "excel_file_of_a_month = r\"c:\\Users\\hcche\\WiBox\\wh300\\201712.xlsx\"\n",
    "%store excel_file_of_a_month\n",
    "%run excel_to_data_label.ipynb"
   ]
  },
  {
   "cell_type": "code",
   "execution_count": 19,
   "metadata": {},
   "outputs": [
    {
     "data": {
      "application/javascript": [
       "alert(\"feature_columns_for_DNN.ipynb: Customer.txt (客戶) 跟 BorrowerDEPT.txt (部門代碼) 列表可能有變化，使用前要考慮更新。\")\n",
       "// 從某月份的 excel 帳表的 Customer 欄排序、去掉重複的，得到 Customer.txt。檢查其中若有發現大小寫不一的，則修正有牽涉的帳表。我不知道\n",
       "// 大小寫有沒有關係，寧可都保持一致。\n",
       "// 從某月份的 excel 帳表的 BorrowerDEPT 欄排序、去掉重複的，得到 BorrowerDEPT.txt。檢查其中若有發現大小寫不一的，則修正有牽涉的帳表。\n",
       "// 我不知道大小寫有沒有關係，寧可都保持一致。"
      ],
      "text/plain": [
       "<IPython.core.display.Javascript object>"
      ]
     },
     "metadata": {},
     "output_type": "display_data"
    },
    {
     "name": "stdout",
     "output_type": "stream",
     "text": [
      "Stored 'feature_columns' (list)\n",
      "INFO:tensorflow:Using default config.\n",
      "INFO:tensorflow:Using config: {'_model_dir': 'model/dnn', '_tf_random_seed': None, '_save_summary_steps': 100, '_save_checkpoints_steps': None, '_save_checkpoints_secs': 600, '_session_config': None, '_keep_checkpoint_max': 5, '_keep_checkpoint_every_n_hours': 10000, '_log_step_count_steps': 100, '_service': None, '_cluster_spec': <tensorflow.python.training.server_lib.ClusterSpec object at 0x0000028827226CC0>, '_task_type': 'worker', '_task_id': 0, '_master': '', '_is_chief': True, '_num_ps_replicas': 0, '_num_worker_replicas': 1}\n",
      "INFO:tensorflow:Restoring parameters from model/dnn\\model.ckpt-12000\n",
      "[1, 1, 1, 1, 1, 1, 1, 1, 1, 1, 0, 0, 0, 1, 0, 0, 0, 1, 1, 1, 1, 1, 1, 1, 1, 1, 0, 0, 0, 0, 0, 0, 0, 0, 0, 0, 0, 0, 0, 0, 0, 0, 0, 0, 0, 0, 0, 0, 0, 0, 0, 0, 0, 0, 0, 0, 0, 0, 1, 1, 1, 1, 1, 1, 1, 1, 0, 0, 0, 0, 1, 1, 1, 1, 1, 1, 1, 1, 1, 1, 1, 1, 1, 1, 1, 1, 1, 1, 1, 0, 0, 0, 0, 0, 0, 0, 0, 0, 0, 0]\n",
      "[1, 1, 1, 1, 1, 1, 1, 1, 1, 1, 0, 0, 0, 1, 0, 0, 0, 1, 1, 1, 1, 1, 1, 1, 1, 1, 0, 0, 0, 0, 0, 0, 0, 0, 0, 0, 0, 0, 0, 0, 0, 0, 0, 0, 0, 0, 0, 0, 0, 0, 0, 0, 0, 0, 0, 0, 0, 0, 1, 1, 1, 1, 1, 1, 1, 1, 0, 0, 0, 0, 1, 1, 1, 1, 1, 1, 1, 1, 1, 1, 1, 1, 1, 1, 1, 1, 1, 1, 1, 0, 0, 0, 0, 0, 0, 0, 0, 0, 0, 0]\n",
      "158\n",
      "151\n",
      "Automatic pdb calling has been turned OFF\n",
      "__main__ :> categories ( 沒事的，漏掉的，多的，一致的 ) tib. \\ ==> [547, 25, 32, 126] (<class 'list'>)\n"
     ]
    }
   ],
   "source": [
    "%run DNNClassifier_Predicting.ipynb"
   ]
  },
  {
   "cell_type": "markdown",
   "metadata": {},
   "source": [
    "#### 以上 Predicted 結果即 predictions.csv 檔\n",
    "\n",
    "# ── 完 ──"
   ]
  }
 ],
 "metadata": {
  "kernelspec": {
   "display_name": "Python 3",
   "language": "python",
   "name": "python3"
  },
  "language_info": {
   "codemirror_mode": {
    "name": "ipython",
    "version": 3
   },
   "file_extension": ".py",
   "mimetype": "text/x-python",
   "name": "python",
   "nbconvert_exporter": "python",
   "pygments_lexer": "ipython3",
   "version": "3.6.0"
  }
 },
 "nbformat": 4,
 "nbformat_minor": 2
}
