{
 "cells": [
  {
   "cell_type": "markdown",
   "metadata": {},
   "source": [
    "# WH300 Project \n",
    "### 應用 DNN Neural Network 自動勾選 over 300 天的領用催還\n",
    "\n",
    "本程式調用其他附屬程式完成由「訓練」、「測試」、到「預測」各階段的工作，一方面示範這些附屬程式的用法。\n",
    "\n",
    "本 project 由下列附屬程式組成：\n",
    "- excel_to_data_label.ipynb ─ 把 excel 轉成 DNN 認得的 data frame\n",
    "- feature_columns_for_DNN.ipynb ─ 針對庫房帳表各欄，轉述成 DNN 認得的資料類型\n",
    "- DNNClassifier_Training.ipynb ─ 訓練 DNN 神經網路\n",
    "- DNNClassifier_Evaluating.ipynb ─ 測試，跟人工的相比，看 DNN 預測的有多準。\n",
    "- DNNClassifier_Predicting.ipynb ─ 預測，由 DNN 來勾選可疑的項目，以便催還。\n"
   ]
  },
  {
   "cell_type": "markdown",
   "metadata": {},
   "source": [
    "### Get training data and label"
   ]
  },
  {
   "cell_type": "code",
   "execution_count": 4,
   "metadata": {},
   "outputs": [
    {
     "name": "stdout",
     "output_type": "stream",
     "text": [
      "Stored 'excel_file_of_a_month' (str)\n"
     ]
    }
   ],
   "source": [
    "excel_file_of_a_month = r\"201801.xlsx\"\n",
    "%store excel_file_of_a_month"
   ]
  },
  {
   "cell_type": "code",
   "execution_count": 5,
   "metadata": {},
   "outputs": [
    {
     "data": {
      "application/javascript": [
       "alert(\"excel_to_data_label.ipynb: 與 'columns' list 比較，庫房的每月報表之「總表」裡偶有多出來的欄位，手動先剔除之。\")"
      ],
      "text/plain": [
       "<IPython.core.display.Javascript object>"
      ]
     },
     "metadata": {},
     "output_type": "display_data"
    },
    {
     "name": "stdout",
     "output_type": "stream",
     "text": [
      "Automatic pdb calling has been turned OFF\n"
     ]
    },
    {
     "data": {
      "application/javascript": [
       "alert(\"excel_to_data_label.ipynb: df 全部，df1 僅 over 300d 看要用哪個，直接改程式，就在本行下面。\")"
      ],
      "text/plain": [
       "<IPython.core.display.Javascript object>"
      ]
     },
     "metadata": {},
     "output_type": "display_data"
    },
    {
     "name": "stdout",
     "output_type": "stream",
     "text": [
      "(699, 7)\n",
      "(699,)\n",
      "Stored 'data_label' (tuple)\n"
     ]
    }
   ],
   "source": [
    "%run excel_to_data_label.ipynb"
   ]
  },
  {
   "cell_type": "markdown",
   "metadata": {},
   "source": [
    "### Training the DNN Classifier "
   ]
  },
  {
   "cell_type": "code",
   "execution_count": 6,
   "metadata": {},
   "outputs": [
    {
     "name": "stdout",
     "output_type": "stream",
     "text": [
      "(699, 7)\n",
      "(699,)\n"
     ]
    },
    {
     "data": {
      "application/javascript": [
       "alert(\"feature_columns_for_DNN.ipynb: Customer.txt (客戶) 跟 BorrowerDEPT.txt (部門代碼) 列表可能有變化，使用前要考慮更新。\")"
      ],
      "text/plain": [
       "<IPython.core.display.Javascript object>"
      ]
     },
     "metadata": {},
     "output_type": "display_data"
    },
    {
     "name": "stdout",
     "output_type": "stream",
     "text": [
      "Stored 'feature_columns' (list)\n"
     ]
    },
    {
     "data": {
      "application/javascript": [
       "alert(\"DNNClassifier_Training.ipynb: 清掉整個 model 的動作，若有需要手動做。\")"
      ],
      "text/plain": [
       "<IPython.core.display.Javascript object>"
      ]
     },
     "metadata": {},
     "output_type": "display_data"
    },
    {
     "name": "stdout",
     "output_type": "stream",
     "text": [
      "INFO:tensorflow:Using default config.\n",
      "INFO:tensorflow:Using config: {'_model_dir': 'model/dnn', '_tf_random_seed': None, '_save_summary_steps': 100, '_save_checkpoints_steps': None, '_save_checkpoints_secs': 600, '_session_config': None, '_keep_checkpoint_max': 5, '_keep_checkpoint_every_n_hours': 10000, '_log_step_count_steps': 100, '_service': None, '_cluster_spec': <tensorflow.python.training.server_lib.ClusterSpec object at 0x0000028EE86C24E0>, '_task_type': 'worker', '_task_id': 0, '_master': '', '_is_chief': True, '_num_ps_replicas': 0, '_num_worker_replicas': 1}\n",
      "INFO:tensorflow:Create CheckpointSaverHook.\n",
      "INFO:tensorflow:Restoring parameters from model/dnn\\model.ckpt-10000\n",
      "INFO:tensorflow:Saving checkpoints for 10001 into model/dnn\\model.ckpt.\n",
      "INFO:tensorflow:loss = 254.40532, step = 10001\n",
      "INFO:tensorflow:global_step/sec: 306.804\n",
      "INFO:tensorflow:loss = 21.582619, step = 10101 (0.328 sec)\n",
      "INFO:tensorflow:global_step/sec: 467.303\n",
      "INFO:tensorflow:loss = 10.116343, step = 10201 (0.216 sec)\n",
      "INFO:tensorflow:global_step/sec: 424.483\n",
      "INFO:tensorflow:loss = 12.537309, step = 10301 (0.236 sec)\n",
      "INFO:tensorflow:global_step/sec: 437.598\n",
      "INFO:tensorflow:loss = 12.256363, step = 10401 (0.228 sec)\n",
      "INFO:tensorflow:global_step/sec: 427.027\n",
      "INFO:tensorflow:loss = 10.126975, step = 10501 (0.235 sec)\n",
      "INFO:tensorflow:global_step/sec: 363.967\n",
      "INFO:tensorflow:loss = 9.172291, step = 10601 (0.274 sec)\n",
      "INFO:tensorflow:global_step/sec: 352.89\n",
      "INFO:tensorflow:loss = 3.3953292, step = 10701 (0.282 sec)\n",
      "INFO:tensorflow:global_step/sec: 426.194\n",
      "INFO:tensorflow:loss = 1.7014803, step = 10801 (0.237 sec)\n",
      "INFO:tensorflow:global_step/sec: 428.918\n",
      "INFO:tensorflow:loss = 0.8155447, step = 10901 (0.232 sec)\n",
      "INFO:tensorflow:global_step/sec: 433.225\n",
      "INFO:tensorflow:loss = 0.60724986, step = 11001 (0.231 sec)\n",
      "INFO:tensorflow:global_step/sec: 414.135\n",
      "INFO:tensorflow:loss = 0.6746365, step = 11101 (0.241 sec)\n",
      "INFO:tensorflow:global_step/sec: 423.375\n",
      "INFO:tensorflow:loss = 0.42248896, step = 11201 (0.236 sec)\n",
      "INFO:tensorflow:global_step/sec: 440.298\n",
      "INFO:tensorflow:loss = 0.4427823, step = 11301 (0.227 sec)\n",
      "INFO:tensorflow:global_step/sec: 413.819\n",
      "INFO:tensorflow:loss = 0.3421448, step = 11401 (0.241 sec)\n",
      "INFO:tensorflow:global_step/sec: 449.225\n",
      "INFO:tensorflow:loss = 0.24967034, step = 11501 (0.224 sec)\n",
      "INFO:tensorflow:global_step/sec: 428.885\n",
      "INFO:tensorflow:loss = 0.27049497, step = 11601 (0.233 sec)\n",
      "INFO:tensorflow:global_step/sec: 336.429\n",
      "INFO:tensorflow:loss = 0.15661219, step = 11701 (0.297 sec)\n",
      "INFO:tensorflow:global_step/sec: 330.912\n",
      "INFO:tensorflow:loss = 0.13501617, step = 11801 (0.302 sec)\n",
      "INFO:tensorflow:global_step/sec: 419.5\n",
      "INFO:tensorflow:loss = 0.12159621, step = 11901 (0.239 sec)\n",
      "INFO:tensorflow:Saving checkpoints for 12000 into model/dnn\\model.ckpt.\n",
      "INFO:tensorflow:Loss for final step: 0.1209467.\n"
     ]
    }
   ],
   "source": [
    "%run DNNClassifier_Training.ipynb"
   ]
  },
  {
   "cell_type": "markdown",
   "metadata": {},
   "source": [
    "## Evaluate with test data "
   ]
  },
  {
   "cell_type": "code",
   "execution_count": 11,
   "metadata": {},
   "outputs": [
    {
     "name": "stdout",
     "output_type": "stream",
     "text": [
      "Stored 'excel_file_of_a_month' (str)\n"
     ]
    },
    {
     "data": {
      "application/javascript": [
       "alert(\"excel_to_data_label.ipynb: 與 'columns' list 比較，庫房的每月報表之「總表」裡偶有多出來的欄位，手動先剔除之。\")"
      ],
      "text/plain": [
       "<IPython.core.display.Javascript object>"
      ]
     },
     "metadata": {},
     "output_type": "display_data"
    },
    {
     "name": "stdout",
     "output_type": "stream",
     "text": [
      "Automatic pdb calling has been turned OFF\n"
     ]
    },
    {
     "data": {
      "application/javascript": [
       "alert(\"excel_to_data_label.ipynb: df 全部，df1 僅 over 300d 看要用哪個，直接改程式，就在本行下面。\")"
      ],
      "text/plain": [
       "<IPython.core.display.Javascript object>"
      ]
     },
     "metadata": {},
     "output_type": "display_data"
    },
    {
     "name": "stdout",
     "output_type": "stream",
     "text": [
      "(702, 7)\n",
      "(702,)\n",
      "Stored 'data_label' (tuple)\n",
      "核對一下 shapes \n",
      "(702, 7)\n",
      "(702,)\n"
     ]
    },
    {
     "data": {
      "application/javascript": [
       "alert(\"feature_columns_for_DNN.ipynb: Customer.txt (客戶) 跟 BorrowerDEPT.txt (部門代碼) 列表可能有變化，使用前要考慮更新。\")"
      ],
      "text/plain": [
       "<IPython.core.display.Javascript object>"
      ]
     },
     "metadata": {},
     "output_type": "display_data"
    },
    {
     "name": "stdout",
     "output_type": "stream",
     "text": [
      "Stored 'feature_columns' (list)\n",
      "INFO:tensorflow:Using default config.\n",
      "INFO:tensorflow:Using config: {'_model_dir': 'model/dnn', '_tf_random_seed': None, '_save_summary_steps': 100, '_save_checkpoints_steps': None, '_save_checkpoints_secs': 600, '_session_config': None, '_keep_checkpoint_max': 5, '_keep_checkpoint_every_n_hours': 10000, '_log_step_count_steps': 100, '_service': None, '_cluster_spec': <tensorflow.python.training.server_lib.ClusterSpec object at 0x0000028EEC731780>, '_task_type': 'worker', '_task_id': 0, '_master': '', '_is_chief': True, '_num_ps_replicas': 0, '_num_worker_replicas': 1}\n",
      "WARNING:tensorflow:Casting <dtype: 'float32'> labels to bool.\n",
      "WARNING:tensorflow:Casting <dtype: 'float32'> labels to bool.\n",
      "INFO:tensorflow:Starting evaluation at 2018-03-29-01:31:31\n",
      "INFO:tensorflow:Restoring parameters from model/dnn\\model.ckpt-12000\n",
      "INFO:tensorflow:Finished evaluation at 2018-03-29-01:31:32\n",
      "INFO:tensorflow:Saving dict for global step 12000: accuracy = 0.8917379, accuracy_baseline = 0.76638174, auc = 0.8821856, auc_precision_recall = 0.86106014, average_loss = 0.6734894, global_step = 12000, label/mean = 0.23361823, loss = 78.798256, prediction/mean = 0.15406813\n"
     ]
    }
   ],
   "source": [
    "excel_file_of_a_month = r\"9月份W10W庫庫存報表.xlsx\"\n",
    "\n",
    "%store excel_file_of_a_month\n",
    "%run excel_to_data_label.ipynb\n",
    "%run DNNClassifier_Evaluating.ipynb"
   ]
  },
  {
   "cell_type": "code",
   "execution_count": 12,
   "metadata": {},
   "outputs": [
    {
     "name": "stdout",
     "output_type": "stream",
     "text": [
      "Stored 'excel_file_of_a_month' (str)\n"
     ]
    },
    {
     "data": {
      "application/javascript": [
       "alert(\"excel_to_data_label.ipynb: 與 'columns' list 比較，庫房的每月報表之「總表」裡偶有多出來的欄位，手動先剔除之。\")"
      ],
      "text/plain": [
       "<IPython.core.display.Javascript object>"
      ]
     },
     "metadata": {},
     "output_type": "display_data"
    },
    {
     "name": "stdout",
     "output_type": "stream",
     "text": [
      "Automatic pdb calling has been turned OFF\n"
     ]
    },
    {
     "data": {
      "application/javascript": [
       "alert(\"excel_to_data_label.ipynb: df 全部，df1 僅 over 300d 看要用哪個，直接改程式，就在本行下面。\")"
      ],
      "text/plain": [
       "<IPython.core.display.Javascript object>"
      ]
     },
     "metadata": {},
     "output_type": "display_data"
    },
    {
     "name": "stdout",
     "output_type": "stream",
     "text": [
      "(745, 7)\n",
      "(745,)\n",
      "Stored 'data_label' (tuple)\n",
      "核對一下 shapes \n",
      "(745, 7)\n",
      "(745,)\n"
     ]
    },
    {
     "data": {
      "application/javascript": [
       "alert(\"feature_columns_for_DNN.ipynb: Customer.txt (客戶) 跟 BorrowerDEPT.txt (部門代碼) 列表可能有變化，使用前要考慮更新。\")"
      ],
      "text/plain": [
       "<IPython.core.display.Javascript object>"
      ]
     },
     "metadata": {},
     "output_type": "display_data"
    },
    {
     "name": "stdout",
     "output_type": "stream",
     "text": [
      "Stored 'feature_columns' (list)\n",
      "INFO:tensorflow:Using default config.\n",
      "INFO:tensorflow:Using config: {'_model_dir': 'model/dnn', '_tf_random_seed': None, '_save_summary_steps': 100, '_save_checkpoints_steps': None, '_save_checkpoints_secs': 600, '_session_config': None, '_keep_checkpoint_max': 5, '_keep_checkpoint_every_n_hours': 10000, '_log_step_count_steps': 100, '_service': None, '_cluster_spec': <tensorflow.python.training.server_lib.ClusterSpec object at 0x0000028EE83E1A90>, '_task_type': 'worker', '_task_id': 0, '_master': '', '_is_chief': True, '_num_ps_replicas': 0, '_num_worker_replicas': 1}\n",
      "WARNING:tensorflow:Casting <dtype: 'float32'> labels to bool.\n",
      "WARNING:tensorflow:Casting <dtype: 'float32'> labels to bool.\n",
      "INFO:tensorflow:Starting evaluation at 2018-03-29-01:31:47\n",
      "INFO:tensorflow:Restoring parameters from model/dnn\\model.ckpt-12000\n",
      "INFO:tensorflow:Finished evaluation at 2018-03-29-01:31:48\n",
      "INFO:tensorflow:Saving dict for global step 12000: accuracy = 0.8979866, accuracy_baseline = 0.77986574, auc = 0.8750682, auc_precision_recall = 0.8356646, average_loss = 0.6297088, global_step = 12000, label/mean = 0.22013423, loss = 78.18884, prediction/mean = 0.1800298\n"
     ]
    }
   ],
   "source": [
    "excel_file_of_a_month = r\"10月份W10W庫庫存報表.xlsx\"\n",
    "\n",
    "%store excel_file_of_a_month\n",
    "%run excel_to_data_label.ipynb\n",
    "%run DNNClassifier_Evaluating.ipynb"
   ]
  },
  {
   "cell_type": "code",
   "execution_count": 13,
   "metadata": {},
   "outputs": [
    {
     "name": "stdout",
     "output_type": "stream",
     "text": [
      "Stored 'excel_file_of_a_month' (str)\n"
     ]
    },
    {
     "data": {
      "application/javascript": [
       "alert(\"excel_to_data_label.ipynb: 與 'columns' list 比較，庫房的每月報表之「總表」裡偶有多出來的欄位，手動先剔除之。\")"
      ],
      "text/plain": [
       "<IPython.core.display.Javascript object>"
      ]
     },
     "metadata": {},
     "output_type": "display_data"
    },
    {
     "name": "stdout",
     "output_type": "stream",
     "text": [
      "Automatic pdb calling has been turned OFF\n"
     ]
    },
    {
     "data": {
      "application/javascript": [
       "alert(\"excel_to_data_label.ipynb: df 全部，df1 僅 over 300d 看要用哪個，直接改程式，就在本行下面。\")"
      ],
      "text/plain": [
       "<IPython.core.display.Javascript object>"
      ]
     },
     "metadata": {},
     "output_type": "display_data"
    },
    {
     "name": "stdout",
     "output_type": "stream",
     "text": [
      "(722, 7)\n",
      "(722,)\n",
      "Stored 'data_label' (tuple)\n",
      "核對一下 shapes \n",
      "(722, 7)\n",
      "(722,)\n"
     ]
    },
    {
     "data": {
      "application/javascript": [
       "alert(\"feature_columns_for_DNN.ipynb: Customer.txt (客戶) 跟 BorrowerDEPT.txt (部門代碼) 列表可能有變化，使用前要考慮更新。\")"
      ],
      "text/plain": [
       "<IPython.core.display.Javascript object>"
      ]
     },
     "metadata": {},
     "output_type": "display_data"
    },
    {
     "name": "stdout",
     "output_type": "stream",
     "text": [
      "Stored 'feature_columns' (list)\n",
      "INFO:tensorflow:Using default config.\n",
      "INFO:tensorflow:Using config: {'_model_dir': 'model/dnn', '_tf_random_seed': None, '_save_summary_steps': 100, '_save_checkpoints_steps': None, '_save_checkpoints_secs': 600, '_session_config': None, '_keep_checkpoint_max': 5, '_keep_checkpoint_every_n_hours': 10000, '_log_step_count_steps': 100, '_service': None, '_cluster_spec': <tensorflow.python.training.server_lib.ClusterSpec object at 0x0000028EE840BFD0>, '_task_type': 'worker', '_task_id': 0, '_master': '', '_is_chief': True, '_num_ps_replicas': 0, '_num_worker_replicas': 1}\n",
      "WARNING:tensorflow:Casting <dtype: 'float32'> labels to bool.\n",
      "WARNING:tensorflow:Casting <dtype: 'float32'> labels to bool.\n",
      "INFO:tensorflow:Starting evaluation at 2018-03-29-01:31:57\n",
      "INFO:tensorflow:Restoring parameters from model/dnn\\model.ckpt-12000\n",
      "INFO:tensorflow:Finished evaluation at 2018-03-29-01:31:58\n",
      "INFO:tensorflow:Saving dict for global step 12000: accuracy = 0.87534624, accuracy_baseline = 0.7728532, auc = 0.8070035, auc_precision_recall = 0.78409135, average_loss = 1.2588247, global_step = 12000, label/mean = 0.22714682, loss = 151.47858, prediction/mean = 0.18242292\n"
     ]
    }
   ],
   "source": [
    "excel_file_of_a_month = r\"11月份W10W庫庫存報表.xlsx\"\n",
    "\n",
    "%store excel_file_of_a_month\n",
    "%run excel_to_data_label.ipynb\n",
    "%run DNNClassifier_Evaluating.ipynb"
   ]
  },
  {
   "cell_type": "code",
   "execution_count": 14,
   "metadata": {},
   "outputs": [
    {
     "name": "stdout",
     "output_type": "stream",
     "text": [
      "Stored 'excel_file_of_a_month' (str)\n"
     ]
    },
    {
     "data": {
      "application/javascript": [
       "alert(\"excel_to_data_label.ipynb: 與 'columns' list 比較，庫房的每月報表之「總表」裡偶有多出來的欄位，手動先剔除之。\")"
      ],
      "text/plain": [
       "<IPython.core.display.Javascript object>"
      ]
     },
     "metadata": {},
     "output_type": "display_data"
    },
    {
     "name": "stdout",
     "output_type": "stream",
     "text": [
      "Automatic pdb calling has been turned OFF\n"
     ]
    },
    {
     "data": {
      "application/javascript": [
       "alert(\"excel_to_data_label.ipynb: df 全部，df1 僅 over 300d 看要用哪個，直接改程式，就在本行下面。\")"
      ],
      "text/plain": [
       "<IPython.core.display.Javascript object>"
      ]
     },
     "metadata": {},
     "output_type": "display_data"
    },
    {
     "name": "stdout",
     "output_type": "stream",
     "text": [
      "(730, 7)\n",
      "(730,)\n",
      "Stored 'data_label' (tuple)\n",
      "核對一下 shapes \n",
      "(730, 7)\n",
      "(730,)\n"
     ]
    },
    {
     "data": {
      "application/javascript": [
       "alert(\"feature_columns_for_DNN.ipynb: Customer.txt (客戶) 跟 BorrowerDEPT.txt (部門代碼) 列表可能有變化，使用前要考慮更新。\")"
      ],
      "text/plain": [
       "<IPython.core.display.Javascript object>"
      ]
     },
     "metadata": {},
     "output_type": "display_data"
    },
    {
     "name": "stdout",
     "output_type": "stream",
     "text": [
      "Stored 'feature_columns' (list)\n",
      "INFO:tensorflow:Using default config.\n",
      "INFO:tensorflow:Using config: {'_model_dir': 'model/dnn', '_tf_random_seed': None, '_save_summary_steps': 100, '_save_checkpoints_steps': None, '_save_checkpoints_secs': 600, '_session_config': None, '_keep_checkpoint_max': 5, '_keep_checkpoint_every_n_hours': 10000, '_log_step_count_steps': 100, '_service': None, '_cluster_spec': <tensorflow.python.training.server_lib.ClusterSpec object at 0x0000028EE4E73D30>, '_task_type': 'worker', '_task_id': 0, '_master': '', '_is_chief': True, '_num_ps_replicas': 0, '_num_worker_replicas': 1}\n",
      "WARNING:tensorflow:Casting <dtype: 'float32'> labels to bool.\n",
      "WARNING:tensorflow:Casting <dtype: 'float32'> labels to bool.\n",
      "INFO:tensorflow:Starting evaluation at 2018-03-29-01:32:09\n",
      "INFO:tensorflow:Restoring parameters from model/dnn\\model.ckpt-12000\n",
      "INFO:tensorflow:Finished evaluation at 2018-03-29-01:32:10\n",
      "INFO:tensorflow:Saving dict for global step 12000: accuracy = 0.96712327, accuracy_baseline = 0.79315066, auc = 0.9471686, auc_precision_recall = 0.9478793, average_loss = 0.30433175, global_step = 12000, label/mean = 0.20684932, loss = 37.027027, prediction/mean = 0.18704529\n"
     ]
    }
   ],
   "source": [
    "excel_file_of_a_month = r\"201712.xlsx\"\n",
    "\n",
    "%store excel_file_of_a_month\n",
    "%run excel_to_data_label.ipynb\n",
    "%run DNNClassifier_Evaluating.ipynb"
   ]
  },
  {
   "cell_type": "code",
   "execution_count": 15,
   "metadata": {},
   "outputs": [
    {
     "name": "stdout",
     "output_type": "stream",
     "text": [
      "Stored 'excel_file_of_a_month' (str)\n"
     ]
    },
    {
     "data": {
      "application/javascript": [
       "alert(\"excel_to_data_label.ipynb: 與 'columns' list 比較，庫房的每月報表之「總表」裡偶有多出來的欄位，手動先剔除之。\")"
      ],
      "text/plain": [
       "<IPython.core.display.Javascript object>"
      ]
     },
     "metadata": {},
     "output_type": "display_data"
    },
    {
     "name": "stdout",
     "output_type": "stream",
     "text": [
      "Automatic pdb calling has been turned OFF\n"
     ]
    },
    {
     "data": {
      "application/javascript": [
       "alert(\"excel_to_data_label.ipynb: df 全部，df1 僅 over 300d 看要用哪個，直接改程式，就在本行下面。\")"
      ],
      "text/plain": [
       "<IPython.core.display.Javascript object>"
      ]
     },
     "metadata": {},
     "output_type": "display_data"
    },
    {
     "name": "stdout",
     "output_type": "stream",
     "text": [
      "(699, 7)\n",
      "(699,)\n",
      "Stored 'data_label' (tuple)\n",
      "核對一下 shapes \n",
      "(699, 7)\n",
      "(699,)\n"
     ]
    },
    {
     "data": {
      "application/javascript": [
       "alert(\"feature_columns_for_DNN.ipynb: Customer.txt (客戶) 跟 BorrowerDEPT.txt (部門代碼) 列表可能有變化，使用前要考慮更新。\")"
      ],
      "text/plain": [
       "<IPython.core.display.Javascript object>"
      ]
     },
     "metadata": {},
     "output_type": "display_data"
    },
    {
     "name": "stdout",
     "output_type": "stream",
     "text": [
      "Stored 'feature_columns' (list)\n",
      "INFO:tensorflow:Using default config.\n",
      "INFO:tensorflow:Using config: {'_model_dir': 'model/dnn', '_tf_random_seed': None, '_save_summary_steps': 100, '_save_checkpoints_steps': None, '_save_checkpoints_secs': 600, '_session_config': None, '_keep_checkpoint_max': 5, '_keep_checkpoint_every_n_hours': 10000, '_log_step_count_steps': 100, '_service': None, '_cluster_spec': <tensorflow.python.training.server_lib.ClusterSpec object at 0x0000028EEB0984A8>, '_task_type': 'worker', '_task_id': 0, '_master': '', '_is_chief': True, '_num_ps_replicas': 0, '_num_worker_replicas': 1}\n",
      "WARNING:tensorflow:Casting <dtype: 'float32'> labels to bool.\n",
      "WARNING:tensorflow:Casting <dtype: 'float32'> labels to bool.\n",
      "INFO:tensorflow:Starting evaluation at 2018-03-29-01:32:25\n",
      "INFO:tensorflow:Restoring parameters from model/dnn\\model.ckpt-12000\n",
      "INFO:tensorflow:Finished evaluation at 2018-03-29-01:32:26\n",
      "INFO:tensorflow:Saving dict for global step 12000: accuracy = 1.0, accuracy_baseline = 0.7882689, auc = 1.0, auc_precision_recall = 1.0, average_loss = 0.0009239327, global_step = 12000, label/mean = 0.21173105, loss = 0.10763816, prediction/mean = 0.21157186\n"
     ]
    }
   ],
   "source": [
    "excel_file_of_a_month = r\"201801.xlsx\"\n",
    "\n",
    "%store excel_file_of_a_month\n",
    "%run excel_to_data_label.ipynb\n",
    "%run DNNClassifier_Evaluating.ipynb"
   ]
  },
  {
   "cell_type": "markdown",
   "metadata": {},
   "source": [
    "## Make a prediction for target data"
   ]
  },
  {
   "cell_type": "code",
   "execution_count": 8,
   "metadata": {},
   "outputs": [
    {
     "name": "stdout",
     "output_type": "stream",
     "text": [
      "Stored 'excel_file_of_a_month' (str)\n"
     ]
    },
    {
     "data": {
      "application/javascript": [
       "alert(\"excel_to_data_label.ipynb: 與 'columns' list 比較，庫房的每月報表之「總表」裡偶有多出來的欄位，手動先剔除之。\")"
      ],
      "text/plain": [
       "<IPython.core.display.Javascript object>"
      ]
     },
     "metadata": {},
     "output_type": "display_data"
    },
    {
     "name": "stdout",
     "output_type": "stream",
     "text": [
      "Automatic pdb calling has been turned OFF\n"
     ]
    },
    {
     "data": {
      "application/javascript": [
       "alert(\"excel_to_data_label.ipynb: df 全部，df1 僅 over 300d 看要用哪個，直接改程式，就在本行下面。\")"
      ],
      "text/plain": [
       "<IPython.core.display.Javascript object>"
      ]
     },
     "metadata": {},
     "output_type": "display_data"
    },
    {
     "name": "stdout",
     "output_type": "stream",
     "text": [
      "(776, 7)\n",
      "(776,)\n",
      "Stored 'data_label' (tuple)\n"
     ]
    }
   ],
   "source": [
    "excel_file_of_a_month = r\"3月份W10W庫庫存報表.xlsx\"\n",
    "%store excel_file_of_a_month\n",
    "%run excel_to_data_label.ipynb"
   ]
  },
  {
   "cell_type": "code",
   "execution_count": 9,
   "metadata": {},
   "outputs": [
    {
     "data": {
      "application/javascript": [
       "alert(\"feature_columns_for_DNN.ipynb: Customer.txt (客戶) 跟 BorrowerDEPT.txt (部門代碼) 列表可能有變化，使用前要考慮更新。\")"
      ],
      "text/plain": [
       "<IPython.core.display.Javascript object>"
      ]
     },
     "metadata": {},
     "output_type": "display_data"
    },
    {
     "name": "stdout",
     "output_type": "stream",
     "text": [
      "Stored 'feature_columns' (list)\n",
      "INFO:tensorflow:Using default config.\n",
      "INFO:tensorflow:Using config: {'_model_dir': 'model/dnn', '_tf_random_seed': None, '_save_summary_steps': 100, '_save_checkpoints_steps': None, '_save_checkpoints_secs': 600, '_session_config': None, '_keep_checkpoint_max': 5, '_keep_checkpoint_every_n_hours': 10000, '_log_step_count_steps': 100, '_service': None, '_cluster_spec': <tensorflow.python.training.server_lib.ClusterSpec object at 0x0000028EE8AA2EB8>, '_task_type': 'worker', '_task_id': 0, '_master': '', '_is_chief': True, '_num_ps_replicas': 0, '_num_worker_replicas': 1}\n",
      "INFO:tensorflow:Restoring parameters from model/dnn\\model.ckpt-12000\n",
      "[1, 1, 1, 1, 1, 0, 0, 0, 1, 1, 1, 1, 1, 0, 0, 0, 0, 0, 0, 0, 0, 0, 0, 0, 0, 0, 0, 0, 0, 0, 0, 0, 0, 0, 0, 0, 0, 0, 1, 1, 1, 1, 1, 1, 1, 1, 0, 0, 0, 0, 1, 1, 1, 1, 1, 1, 1, 1, 1, 1, 1, 1, 1, 1, 1, 1, 1, 1, 0, 0, 0, 1, 0, 1, 0, 0, 0, 0, 1, 0, 0, 0, 0, 0, 0, 0, 0, 0, 0, 0, 0, 0, 0, 0, 0, 0, 0, 0, 0, 0]\n",
      "[0, 0, 0, 0, 0, 0, 0, 0, 0, 0, 0, 0, 0, 0, 0, 0, 0, 0, 0, 0, 0, 0, 0, 0, 0, 0, 0, 0, 0, 0, 0, 0, 0, 0, 0, 0, 0, 0, 0, 0, 0, 0, 0, 0, 0, 0, 0, 0, 0, 0, 1, 1, 1, 1, 1, 1, 1, 1, 1, 1, 1, 1, 1, 1, 1, 1, 1, 1, 0, 0, 0, 0, 0, 0, 0, 0, 0, 0, 0, 0, 0, 0, 0, 0, 0, 0, 0, 0, 0, 0, 0, 0, 0, 0, 0, 0, 0, 0, 0, 0]\n",
      "176\n",
      "99\n",
      "Automatic pdb calling has been turned OFF\n",
      "__main__ :> categories ( 沒事的，漏掉的，多的，一致的 ) tib. \\ ==> [597, 3, 80, 96] (<class 'list'>)\n"
     ]
    }
   ],
   "source": [
    "%run DNNClassifier_Predicting.ipynb"
   ]
  },
  {
   "cell_type": "markdown",
   "metadata": {},
   "source": [
    "#### 以上 Predicted 結果即 predictions.csv 檔\n",
    "\n",
    "# ── 完 ──"
   ]
  }
 ],
 "metadata": {
  "kernelspec": {
   "display_name": "Python 3",
   "language": "python",
   "name": "python3"
  },
  "language_info": {
   "codemirror_mode": {
    "name": "ipython",
    "version": 3
   },
   "file_extension": ".py",
   "mimetype": "text/x-python",
   "name": "python",
   "nbconvert_exporter": "python",
   "pygments_lexer": "ipython3",
   "version": "3.6.0"
  }
 },
 "nbformat": 4,
 "nbformat_minor": 2
}
