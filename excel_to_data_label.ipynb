{
 "cells": [
  {
   "cell_type": "markdown",
   "metadata": {},
   "source": [
    "# Get data and label data-frame from excel file\n",
    "\n",
    "Save a tuble of 'data' data-frame and 'label' series into jupyter space.\n",
    "\n",
    "#### Input\n",
    "1. %store -r excel_file_of_a_month \n",
    "\n",
    "#### Output \n",
    "1. %store data_label \n",
    "\n",
    "\n",
    "### Usage on the other notebook\n",
    "    %store -r data_label\n",
    "    data_label[0]  # features pandas data-frame\n",
    "    data_label[1]  # labels pandas series\n",
    "    \n",
    "### Examine the data\n",
    "\n",
    "    [x] 把 data frame 倒成 csv 的方法，用來檢查資料\n",
    "        df.to_csv(file_name, sep='\\t', encoding='utf-8')\n",
    "    [x] 應用 https://pair-code.github.io/facets/ 可看出很多問題。  \n",
    "\n",
    "    "
   ]
  },
  {
   "cell_type": "code",
   "execution_count": 1,
   "metadata": {},
   "outputs": [],
   "source": [
    "import pandas as pd\n",
    "import numpy as np\n",
    "import peforth"
   ]
  },
  {
   "cell_type": "markdown",
   "metadata": {},
   "source": [
    "### 定義 excel 表頭\n",
    "\n",
    "    [ ] 與這裡的表頭比較，庫房的每月報表之「總表」裡偶有多出來的欄位，手動先剔除之。"
   ]
  },
  {
   "cell_type": "code",
   "execution_count": 2,
   "metadata": {},
   "outputs": [
    {
     "data": {
      "application/javascript": [
       "alert(\"excel_to_data_label.ipynb: 與 'columns' list 比較，庫房的每月報表之「總表」裡偶有多出來的欄位，手動先剔除之。\")"
      ],
      "text/plain": [
       "<IPython.core.display.Javascript object>"
      ]
     },
     "metadata": {},
     "output_type": "display_data"
    }
   ],
   "source": [
    "%%js\n",
    "alert(\"excel_to_data_label.ipynb: 與 'columns' list 比較，庫房的每月報表之「總表」裡偶有多出來的欄位，手動先剔除之。\")\n",
    "// 「總表」一般 worksheet.name 為 'Detail', 其中的欄位要照下表中 Title 的順序，而且不多、不少。\n",
    "// 其中 AI 有用到的是下表中 flag 為 1 者，其他的可以刪除。我是希望照庫房日常工作報表的樣子無須加工直接沿用，因此這樣配合。\n",
    "// 這還不止，總表的 Title 只有一 row 而且是第一 row, 以上的都要刪除，總表的右邊、下邊之外多的都要刪乾淨。"
   ]
  },
  {
   "cell_type": "code",
   "execution_count": 3,
   "metadata": {},
   "outputs": [],
   "source": [
    "# 一次定義好，避免以後分好幾次出現，到時候容易出錯、不一致、改漏掉。\n",
    "\n",
    "          #  title       flag  type\n",
    "          #  =========== ====  ==========\n",
    "columns = [('Customer'     ,1, str       ),  #  0\n",
    "           ('ProjectName'  ,1, str       ),  #  1\n",
    "           ('PartNo'       ,1, str       ),  #  2\n",
    "           ('PartName'     ,0, str       ),  #  3\n",
    "           ('Barcode'      ,1, str       ),  #  4\n",
    "           ('ActionPlan'   ,0, str       ),  #  5\n",
    "           ('TargetDate'   ,0, str       ),  #  6\n",
    "           ('PM_CFM'       ,0, str       ),  #  7\n",
    "           ('MStatus'      ,0, str       ),  #  8\n",
    "           ('RefNo'        ,0, str       ),  #  9\n",
    "           ('StoreInClass' ,0, str       ),  # 10\n",
    "           ('Borrower'     ,0, str       ),  # 11\n",
    "           ('BorrowerID'   ,0, str       ),  # 12\n",
    "           ('BorrowerDEPT' ,1, str       ),  # 13\n",
    "           ('Dept'         ,0, str       ),  # 14\n",
    "           ('QTY'          ,1, np.int32  ),  # 15\n",
    "           ('Price'        ,0, np.float32),  # 16\n",
    "           ('Days'         ,1, np.int32  ),  # 17\n",
    "           ('Tag'          ,1, str       )]  # 18\n",
    "names    = [i[0] for i in columns]          # excel 總表 worksheet column title\n",
    "features = [i[0] for i in columns if i[1]]  # selected features from\n",
    "dtypes = {} \n",
    "for i in columns: dtypes = {**dtypes,**{i[0]:i[2]}} \n"
   ]
  },
  {
   "cell_type": "markdown",
   "metadata": {},
   "source": [
    "## Get training data and label"
   ]
  },
  {
   "cell_type": "markdown",
   "metadata": {},
   "source": [
    "#### 到下一步，出錯說是無法把 'QTY' casting 成 integer\n",
    "\n",
    "進 %pdb 察看 locals() 發現 'QTY' 有個 values 比實際多出一些。把 excel 表上底部之下看不見的部分 Alt-d-e 殺掉一些 rows 之後就好了。"
   ]
  },
  {
   "cell_type": "code",
   "execution_count": 4,
   "metadata": {},
   "outputs": [
    {
     "data": {
      "text/plain": [
       "'c:\\\\Users\\\\hcche\\\\WiBox\\\\wh300\\\\3月份W10W庫庫存報表b.xlsx'"
      ]
     },
     "execution_count": 4,
     "metadata": {},
     "output_type": "execute_result"
    }
   ],
   "source": [
    "%store -r excel_file_of_a_month\n",
    "excel_file_of_a_month"
   ]
  },
  {
   "cell_type": "code",
   "execution_count": 7,
   "metadata": {
    "scrolled": true
   },
   "outputs": [
    {
     "name": "stdout",
     "output_type": "stream",
     "text": [
      "Automatic pdb calling has been turned OFF\n"
     ]
    }
   ],
   "source": [
    "%pdb off\n",
    "df = pd.read_excel(excel_file_of_a_month, \n",
    "                   sheetname=\"Detail\",  # 大小寫無關\n",
    "                   header=0,  # Warehouse 的表多少會變動，不用它的，由本程式自己指定 names。\n",
    "                   names=names, dtype=dtypes)"
   ]
  },
  {
   "cell_type": "code",
   "execution_count": 8,
   "metadata": {},
   "outputs": [],
   "source": [
    "# Tag 欄空白處要改成 0， TensorFlow 看不懂空白啥意思。 \n",
    "df['Tag'] = df['Tag'].apply(lambda x: 1 if \"1\" in str(x) else 0)"
   ]
  },
  {
   "cell_type": "code",
   "execution_count": 9,
   "metadata": {},
   "outputs": [],
   "source": [
    "df1 = df.query('Days >= 300');"
   ]
  },
  {
   "cell_type": "code",
   "execution_count": 10,
   "metadata": {},
   "outputs": [
    {
     "data": {
      "text/plain": [
       "(6083, 19)"
      ]
     },
     "execution_count": 10,
     "metadata": {},
     "output_type": "execute_result"
    }
   ],
   "source": [
    "df.shape"
   ]
  },
  {
   "cell_type": "code",
   "execution_count": 11,
   "metadata": {},
   "outputs": [
    {
     "data": {
      "text/plain": [
       "(776, 19)"
      ]
     },
     "execution_count": 11,
     "metadata": {},
     "output_type": "execute_result"
    }
   ],
   "source": [
    "df1.shape"
   ]
  },
  {
   "cell_type": "code",
   "execution_count": null,
   "metadata": {},
   "outputs": [],
   "source": [
    "%%js\n",
    "alert(\"excel_to_data_label.ipynb: df 全部，df1 僅 over 300d 看要用哪個，直接改程式，就在本行下面。\")"
   ]
  },
  {
   "cell_type": "code",
   "execution_count": 14,
   "metadata": {},
   "outputs": [],
   "source": [
    "# 挑出要用到的 columns\n",
    "data = df1[features]"
   ]
  },
  {
   "cell_type": "code",
   "execution_count": 15,
   "metadata": {},
   "outputs": [],
   "source": [
    "# 庫房來的資料「總表」中有「未領用」的，則「部門代碼」就會是空白的都剔掉，否則會造成類似 \"Unable to get element as bytes.\" 的錯誤。\n",
    "data = data.dropna(how=\"any\", axis=0)  "
   ]
  },
  {
   "cell_type": "code",
   "execution_count": 16,
   "metadata": {},
   "outputs": [
    {
     "data": {
      "text/plain": [
       "0    0\n",
       "1    0\n",
       "2    0\n",
       "3    0\n",
       "Name: Tag, dtype: int64"
      ]
     },
     "execution_count": 16,
     "metadata": {},
     "output_type": "execute_result"
    }
   ],
   "source": [
    "# 挑出 Tag 欄，成為 label \n",
    "label = data.pop('Tag')\n",
    "label[:4]"
   ]
  },
  {
   "cell_type": "code",
   "execution_count": 17,
   "metadata": {},
   "outputs": [
    {
     "data": {
      "text/html": [
       "<div>\n",
       "<style>\n",
       "    .dataframe thead tr:only-child th {\n",
       "        text-align: right;\n",
       "    }\n",
       "\n",
       "    .dataframe thead th {\n",
       "        text-align: left;\n",
       "    }\n",
       "\n",
       "    .dataframe tbody tr th {\n",
       "        vertical-align: top;\n",
       "    }\n",
       "</style>\n",
       "<table border=\"1\" class=\"dataframe\">\n",
       "  <thead>\n",
       "    <tr style=\"text-align: right;\">\n",
       "      <th></th>\n",
       "      <th>Customer</th>\n",
       "      <th>ProjectName</th>\n",
       "      <th>PartNo</th>\n",
       "      <th>Barcode</th>\n",
       "      <th>BorrowerDEPT</th>\n",
       "      <th>QTY</th>\n",
       "      <th>Days</th>\n",
       "    </tr>\n",
       "  </thead>\n",
       "  <tbody>\n",
       "    <tr>\n",
       "      <th>0</th>\n",
       "      <td>Molly</td>\n",
       "      <td>QP200</td>\n",
       "      <td>81.18R55.108G</td>\n",
       "      <td>2014050900478</td>\n",
       "      <td>20QK10</td>\n",
       "      <td>1</td>\n",
       "      <td>1392</td>\n",
       "    </tr>\n",
       "    <tr>\n",
       "      <th>1</th>\n",
       "      <td>Molly</td>\n",
       "      <td>QP200</td>\n",
       "      <td>81.18R55.108G</td>\n",
       "      <td>2014050900485</td>\n",
       "      <td>20QK10</td>\n",
       "      <td>1</td>\n",
       "      <td>1392</td>\n",
       "    </tr>\n",
       "    <tr>\n",
       "      <th>2</th>\n",
       "      <td>Molly</td>\n",
       "      <td>QP200</td>\n",
       "      <td>81.18R55.108G</td>\n",
       "      <td>2014050900492</td>\n",
       "      <td>20QK10</td>\n",
       "      <td>1</td>\n",
       "      <td>1392</td>\n",
       "    </tr>\n",
       "    <tr>\n",
       "      <th>3</th>\n",
       "      <td>Molly</td>\n",
       "      <td>QP200</td>\n",
       "      <td>81.18R55.108G</td>\n",
       "      <td>2014050900508</td>\n",
       "      <td>20QK10</td>\n",
       "      <td>1</td>\n",
       "      <td>1392</td>\n",
       "    </tr>\n",
       "  </tbody>\n",
       "</table>\n",
       "</div>"
      ],
      "text/plain": [
       "                         Customer                               ProjectName  \\\n",
       "0  Molly                           QP200                                      \n",
       "1  Molly                           QP200                                      \n",
       "2  Molly                           QP200                                      \n",
       "3  Molly                           QP200                                      \n",
       "\n",
       "          PartNo        Barcode BorrowerDEPT  QTY  Days  \n",
       "0  81.18R55.108G  2014050900478       20QK10    1  1392  \n",
       "1  81.18R55.108G  2014050900485       20QK10    1  1392  \n",
       "2  81.18R55.108G  2014050900492       20QK10    1  1392  \n",
       "3  81.18R55.108G  2014050900508       20QK10    1  1392  "
      ]
     },
     "execution_count": 17,
     "metadata": {},
     "output_type": "execute_result"
    }
   ],
   "source": [
    "data[:4]"
   ]
  },
  {
   "cell_type": "code",
   "execution_count": null,
   "metadata": {},
   "outputs": [],
   "source": [
    "# 核對一下 shapes \n",
    "%f __main__ :> data.shape . cr\n",
    "%f __main__ :> label.shape . cr"
   ]
  },
  {
   "cell_type": "markdown",
   "metadata": {},
   "source": [
    "### 9. IPython Magic - %store: Pass variables between notebooks.\n",
    "\n",
    "The %store command lets you pass variables between two different notebooks.\n",
    "\n",
    "    data = 'this is the string I want to pass to different notebook'\n",
    "    %store data\n",
    "    del data # This has deleted the variable\n",
    "\n",
    "    Stored 'data' (str)\n",
    "\n",
    "Now, in a new notebook...\n",
    "\n",
    "    %store -r data\n",
    "    print(data)\n",
    "\n",
    "    this is the string I want to pass to different notebook"
   ]
  },
  {
   "cell_type": "code",
   "execution_count": null,
   "metadata": {},
   "outputs": [],
   "source": [
    "data_label = (data,label)\n",
    "%store data_label"
   ]
  }
 ],
 "metadata": {
  "kernelspec": {
   "display_name": "Python 3",
   "language": "python",
   "name": "python3"
  },
  "language_info": {
   "codemirror_mode": {
    "name": "ipython",
    "version": 3
   },
   "file_extension": ".py",
   "mimetype": "text/x-python",
   "name": "python",
   "nbconvert_exporter": "python",
   "pygments_lexer": "ipython3",
   "version": "3.6.0"
  }
 },
 "nbformat": 4,
 "nbformat_minor": 2
}
