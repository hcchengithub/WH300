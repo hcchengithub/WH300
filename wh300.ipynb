{
 "cells": [
  {
   "cell_type": "markdown",
   "metadata": {},
   "source": [
    "\n",
    "# 「人工智慧」輔助 RD 領用物料催還\n",
    "\n",
    "WKS (WCD, WCQ 近似) RD 「長期保留」的物料的管法與 「ongoing projects」 的不同 (V360 定案)，「長期保留」的要用一整套 rule 用人工檢視篩選、以便催還，而且還不能為已經解釋過的事項重複打擾工程師，所以很辛苦，很不容易。\n",
    "\n",
    "2017 秋引進 AI (Decision Tree) 來做篩選之後，半年來與人工篩選相比，accuracy 約 80% 上下。請 RD 庫房同仁 review 差異點也總是 AI 的被 reject, 沒有成功糾正過人工，效果不明顯。2018 春改用 DNN Classifier 之後，回溯舊資料來評估， accuracy 超過 90%。 2018 三月份的人工篩選好不容易也出錯了，立刻被 AI 發現！顯示 AI 的價值：節省人力，提升品質；原本人工篩選有錯是無人知曉的。"
   ]
  },
  {
   "cell_type": "markdown",
   "metadata": {},
   "source": [
    "# WH300 Project \n",
    "### 應用 DNN Neural Network 自動勾選 over 300 天的領用催還\n",
    "\n",
    "本程式調用其他附屬程式完成由「訓練」、「測試」、到「預測」各階段的工作，一方面示範這些附屬程式的用法。\n",
    "\n",
    "本 project 由下列附屬程式組成：\n",
    "- excel_to_data_label.ipynb ─ 把 excel 轉成 DNN 認得的 data frame\n",
    "- feature_columns_for_DNN.ipynb ─ 針對庫房帳表各欄，轉述成 DNN 認得的資料類型\n",
    "- DNNClassifier_Training.ipynb ─ 訓練 DNN 神經網路\n",
    "- DNNClassifier_Evaluating.ipynb ─ 測試，跟人工的相比，看 DNN 預測的有多準。\n",
    "- DNNClassifier_Predicting.ipynb ─ 預測，由 DNN 來勾選可疑的項目，以便催還。\n"
   ]
  },
  {
   "cell_type": "markdown",
   "metadata": {},
   "source": [
    "### Get training data and label"
   ]
  },
  {
   "cell_type": "code",
   "execution_count": null,
   "metadata": {},
   "outputs": [],
   "source": [
    "excel_file_of_a_month = r\"c:\\Users\\hcche\\WiBox\\wh300\\10月份W10W庫庫存報表.xlsx\"\n",
    "%store excel_file_of_a_month"
   ]
  },
  {
   "cell_type": "code",
   "execution_count": null,
   "metadata": {},
   "outputs": [],
   "source": [
    "%run excel_to_data_label.ipynb"
   ]
  },
  {
   "cell_type": "markdown",
   "metadata": {},
   "source": [
    "### Training the DNN Classifier "
   ]
  },
  {
   "cell_type": "code",
   "execution_count": null,
   "metadata": {},
   "outputs": [],
   "source": [
    "%run DNNClassifier_Training.ipynb"
   ]
  },
  {
   "cell_type": "markdown",
   "metadata": {},
   "source": [
    "## Evaluate with test data "
   ]
  },
  {
   "cell_type": "code",
   "execution_count": null,
   "metadata": {},
   "outputs": [],
   "source": [
    "excel_file_of_a_month = r\"c:\\Users\\hcche\\WiBox\\wh300\\8月份W10W庫庫存報表.xlsx\"\n",
    "%store excel_file_of_a_month"
   ]
  },
  {
   "cell_type": "code",
   "execution_count": null,
   "metadata": {},
   "outputs": [],
   "source": [
    "%run excel_to_data_label.ipynb\n",
    "%run DNNClassifier_Evaluating.ipynb"
   ]
  },
  {
   "cell_type": "code",
   "execution_count": null,
   "metadata": {},
   "outputs": [],
   "source": [
    "excel_file_of_a_month = r\"c:\\Users\\hcche\\WiBox\\wh300\\9月份W10W庫庫存報表.xlsx\"\n",
    "%store excel_file_of_a_month"
   ]
  },
  {
   "cell_type": "code",
   "execution_count": null,
   "metadata": {},
   "outputs": [],
   "source": [
    "%run excel_to_data_label.ipynb\n",
    "%run DNNClassifier_Evaluating.ipynb"
   ]
  },
  {
   "cell_type": "code",
   "execution_count": null,
   "metadata": {},
   "outputs": [],
   "source": [
    "excel_file_of_a_month = r\"c:\\Users\\hcche\\WiBox\\wh300\\10月份W10W庫庫存報表.xlsx\"\n",
    "%store excel_file_of_a_month"
   ]
  },
  {
   "cell_type": "code",
   "execution_count": null,
   "metadata": {},
   "outputs": [],
   "source": [
    "%run excel_to_data_label.ipynb\n",
    "%run DNNClassifier_Evaluating.ipynb"
   ]
  },
  {
   "cell_type": "code",
   "execution_count": null,
   "metadata": {},
   "outputs": [],
   "source": [
    "excel_file_of_a_month = r\"c:\\Users\\hcche\\WiBox\\wh300\\11月份W10W庫庫存報表.xlsx\"\n",
    "%store excel_file_of_a_month"
   ]
  },
  {
   "cell_type": "code",
   "execution_count": null,
   "metadata": {},
   "outputs": [],
   "source": [
    "%run excel_to_data_label.ipynb\n",
    "%run DNNClassifier_Evaluating.ipynb"
   ]
  },
  {
   "cell_type": "code",
   "execution_count": null,
   "metadata": {},
   "outputs": [],
   "source": [
    "excel_file_of_a_month = r\"c:\\Users\\hcche\\WiBox\\wh300\\201712.xlsx\"\n",
    "%store excel_file_of_a_month"
   ]
  },
  {
   "cell_type": "code",
   "execution_count": null,
   "metadata": {},
   "outputs": [],
   "source": [
    "%run excel_to_data_label.ipynb\n",
    "%run DNNClassifier_Evaluating.ipynb"
   ]
  },
  {
   "cell_type": "code",
   "execution_count": null,
   "metadata": {},
   "outputs": [],
   "source": [
    "excel_file_of_a_month = r\"c:\\Users\\hcche\\WiBox\\wh300\\201801.xlsx\"\n",
    "%store excel_file_of_a_month"
   ]
  },
  {
   "cell_type": "code",
   "execution_count": null,
   "metadata": {},
   "outputs": [],
   "source": [
    "%run excel_to_data_label.ipynb\n",
    "%run DNNClassifier_Evaluating.ipynb"
   ]
  },
  {
   "cell_type": "code",
   "execution_count": null,
   "metadata": {},
   "outputs": [],
   "source": [
    "excel_file_of_a_month = r\"c:\\Users\\hcche\\WiBox\\wh300\\3月份W10W庫庫存報表b.xlsx\"\n",
    "%store excel_file_of_a_month"
   ]
  },
  {
   "cell_type": "code",
   "execution_count": null,
   "metadata": {},
   "outputs": [],
   "source": [
    "%run excel_to_data_label.ipynb\n",
    "%run DNNClassifier_Evaluating.ipynb"
   ]
  },
  {
   "cell_type": "markdown",
   "metadata": {},
   "source": [
    "## Make a prediction for target data\n",
    "\n",
    "可以直接來做 predicting 讓 AI 為陌生的帳表自動挑出該催還的項目，因為以前已經訓練好的「神經網路」保存在本 project 的 model/dnn 目錄下。"
   ]
  },
  {
   "cell_type": "code",
   "execution_count": null,
   "metadata": {},
   "outputs": [],
   "source": [
    "excel_file_of_a_month = r\"c:\\Users\\hcche\\WiBox\\wh300\\3月份W10W庫庫存報表b.xlsx\"\n",
    "%store excel_file_of_a_month\n",
    "%run excel_to_data_label.ipynb"
   ]
  },
  {
   "cell_type": "code",
   "execution_count": null,
   "metadata": {},
   "outputs": [],
   "source": [
    "%run DNNClassifier_Predicting.ipynb"
   ]
  },
  {
   "cell_type": "markdown",
   "metadata": {},
   "source": [
    "#### 以上 Predicted 結果即 predictions.csv 檔\n",
    "\n",
    "# ── 完 ──"
   ]
  }
 ],
 "metadata": {
  "kernelspec": {
   "display_name": "Python 3",
   "language": "python",
   "name": "python3"
  },
  "language_info": {
   "codemirror_mode": {
    "name": "ipython",
    "version": 3
   },
   "file_extension": ".py",
   "mimetype": "text/x-python",
   "name": "python",
   "nbconvert_exporter": "python",
   "pygments_lexer": "ipython3",
   "version": "3.6.0"
  }
 },
 "nbformat": 4,
 "nbformat_minor": 2
}
